{
  "cells": [
    {
      "cell_type": "markdown",
      "metadata": {
        "id": "view-in-github",
        "colab_type": "text"
      },
      "source": [
        "<a href=\"https://colab.research.google.com/github/fjohnson87/Planning-and-Feasability/blob/main/Johnson_Planning%2Band%2BFeasibility.ipynb\" target=\"_parent\"><img src=\"https://colab.research.google.com/assets/colab-badge.svg\" alt=\"Open In Colab\"/></a>"
      ]
    },
    {
      "cell_type": "markdown",
      "id": "a5578f21-dd6c-4e35-a145-f43797f9aa4b",
      "metadata": {
        "id": "a5578f21-dd6c-4e35-a145-f43797f9aa4b"
      },
      "source": [
        "# Agribusiness Planning and Feasibility\n",
        "Use this template notebook to guide you.  \n",
        "\n",
        "There are some code cells completed for you.  There are also some you need to complete.  These are highlighted with a <font style=\"color:crimson;background-color:lemonchiffon\">TODO</font> comment.  There are also some markdown cells where you are asked to write your observations.  Most require just one or two brief sentences describing what you see in the analysis results you obtained."
      ]
    },
    {
      "cell_type": "markdown",
      "id": "be2e8904-a97f-4ae4-93dd-87f6b59fdb56",
      "metadata": {
        "id": "be2e8904-a97f-4ae4-93dd-87f6b59fdb56"
      },
      "source": [
        "## Import the Libraries we Need\n",
        "These are the libraries you will need.  I've imported them for you."
      ]
    },
    {
      "cell_type": "code",
      "execution_count": null,
      "id": "bf40bab3-9a8b-4d0b-afb4-6c2bb3d18007",
      "metadata": {
        "id": "bf40bab3-9a8b-4d0b-afb4-6c2bb3d18007"
      },
      "outputs": [],
      "source": [
        "import pandas as pd\n",
        "import numpy as np\n",
        "from scipy import stats\n",
        "import seaborn as sns\n",
        "import matplotlib.pyplot as plt"
      ]
    },
    {
      "cell_type": "markdown",
      "id": "280b2d7d-a4ae-4f9a-b667-a36ea6289cd4",
      "metadata": {
        "id": "280b2d7d-a4ae-4f9a-b667-a36ea6289cd4"
      },
      "source": [
        "These options will make it easier to see all the data in your dataframes.  Adujust if you want!"
      ]
    },
    {
      "cell_type": "code",
      "execution_count": null,
      "id": "a33e10de-7855-4889-95ab-91b4b4d4d05d",
      "metadata": {
        "id": "a33e10de-7855-4889-95ab-91b4b4d4d05d"
      },
      "outputs": [],
      "source": [
        "pd.set_option('display.max_columns', None)\n",
        "pd.set_option('display.max_rows', 500)"
      ]
    },
    {
      "cell_type": "markdown",
      "id": "8cd4be3c-3c56-45f0-837d-bf818be6171c",
      "metadata": {
        "id": "8cd4be3c-3c56-45f0-837d-bf818be6171c"
      },
      "source": [
        "## Source the Data"
      ]
    },
    {
      "cell_type": "markdown",
      "id": "27c6d7de-e47a-44e9-8858-406641a93611",
      "metadata": {
        "id": "27c6d7de-e47a-44e9-8858-406641a93611"
      },
      "source": [
        "<div style=\"background-color:lemonchiffon; border:1px solid; padding:5px; margin:5px; font-weight:bold\"><font color=\"crimson\">\n",
        "TODO: Provide links to your data sources here.\n",
        "    </font></div>"
      ]
    },
    {
      "cell_type": "markdown",
      "id": "4a8b1980-f27c-47c6-83e1-5fe3d7b04eea",
      "metadata": {
        "id": "4a8b1980-f27c-47c6-83e1-5fe3d7b04eea"
      },
      "source": [
        "Animal Food Data\n",
        "\n",
        "[FAO Animal Food Data](file:///C:/Users/Yupro-13/OneDrive%20-%20YUPRO/Joseph_Shanika_2_data_files_012024/fao_animal.csv)\n",
        "\n",
        "\n",
        "Vegetal Food Data\n",
        "\n",
        "[FAO Vegetal Food Data](file:///C:/Users/Yupro-13/OneDrive%20-%20YUPRO/Joseph_Shanika_2_data_files_012024/fao_vegetal.csv)\n",
        "\n",
        "GDP per Capita Growth Data\n",
        "\n",
        "[World Bank GDP Growth Data](file:///C:/Users/Yupro-13/OneDrive%20-%20YUPRO/Joseph_Shanika_2_data_files_012024/world_bank_gdp_growth.csv)\n",
        "\n",
        "Population Growth Data\n",
        "\n",
        "[World Population Growth Data](file:///C:/Users/Yupro-13/OneDrive%20-%20YUPRO/Joseph_Shanika_2_data_files_012024/world_bank_pop_growth.csv)\n",
        "\n",
        "Country Region Mapping Data\n",
        "\n",
        "[Country Region Mapping Data](file:///C:/Users/Yupro-13/OneDrive%20-%20YUPRO/Joseph_Shanika_2_data_files_012024/country_region_mapping.xlsx)\n",
        "\n",
        "FAO country codes data\n",
        "\n",
        "[FAO Country Codes Data](file:///C:/Users/Yupro-13/OneDrive%20-%20YUPRO/Joseph_Shanika_2_data_files_012024/fao_country_mapping.xlsx)\n"
      ]
    },
    {
      "cell_type": "markdown",
      "id": "ca3764b2-9844-473a-8ed5-50542af59e9e",
      "metadata": {
        "tags": [],
        "id": "ca3764b2-9844-473a-8ed5-50542af59e9e"
      },
      "source": [
        "## Import the Data\n",
        "You will need to source data from various sources.  It's not necessary to source all your data first.  It may be better to do this iteratively, finding data, loading it and examining it, finding more data, etc.\n",
        "\n",
        "You need to import your sourced data here.  Import each data file into a separate Pandas dataframe.  Use these functions to load data:\n",
        "\n",
        "- [pandas.read_csv](https://pandas.pydata.org/docs/reference/api/pandas.read_csv.html)\n",
        "- [pandas.read_excel](https://pandas.pydata.org/docs/reference/api/pandas.read_excel.html)\n",
        "\n",
        "Note that it may be necessary to do some manual cleanup of the data (e.g. in Excel) to remove any superflous header rows that the original provider included.  You want to end up with straightforward columns of data, with column headings.\n"
      ]
    },
    {
      "cell_type": "markdown",
      "id": "90154a4a-8ad5-42a6-8a40-2355d2cb2344",
      "metadata": {
        "id": "90154a4a-8ad5-42a6-8a40-2355d2cb2344"
      },
      "source": [
        "<div style=\"background-color:lemonchiffon; border:1px solid; padding:5px; margin:5px; font-weight:bold\"><font color=\"crimson\">\n",
        "TODO: Add code cells to load all your data files.  The first one has been done for you.\n",
        "    </font></div>"
      ]
    },
    {
      "cell_type": "code",
      "execution_count": null,
      "id": "1e77721f-dbdc-41bf-8483-9b4e31d07132",
      "metadata": {
        "id": "1e77721f-dbdc-41bf-8483-9b4e31d07132"
      },
      "outputs": [],
      "source": [
        "# Load the animal food data\n",
        "animal = pd.read_csv(\"fao_animal.csv\")"
      ]
    },
    {
      "cell_type": "code",
      "execution_count": null,
      "id": "933bfbd6-5ac2-428b-ae3a-50a6814b2eeb",
      "metadata": {
        "id": "933bfbd6-5ac2-428b-ae3a-50a6814b2eeb"
      },
      "outputs": [],
      "source": [
        "# Load the vegetable food data\n",
        "vegetal = pd.read_csv(\"fao_vegetal.csv\")"
      ]
    },
    {
      "cell_type": "code",
      "execution_count": null,
      "id": "db375327-8a26-4fa4-af9a-e7b251b99ebd",
      "metadata": {
        "id": "db375327-8a26-4fa4-af9a-e7b251b99ebd"
      },
      "outputs": [],
      "source": [
        "# Load the GDP per capita growth data\n",
        "gdp_growth = pd.read_csv(\"world_bank_gdp_growth.csv\")"
      ]
    },
    {
      "cell_type": "code",
      "execution_count": null,
      "id": "8501b299-2a73-422d-8971-add17f11256d",
      "metadata": {
        "id": "8501b299-2a73-422d-8971-add17f11256d"
      },
      "outputs": [],
      "source": [
        "# Load the population growth data\n",
        "pop_growth = pd.read_csv(\"world_bank_pop_growth.csv\")"
      ]
    },
    {
      "cell_type": "code",
      "execution_count": null,
      "id": "ee5ac51c-d229-4e08-80c4-a2fd5e1eac07",
      "metadata": {
        "scrolled": true,
        "id": "ee5ac51c-d229-4e08-80c4-a2fd5e1eac07"
      },
      "outputs": [],
      "source": [
        "# Load the country-region mapping data\n",
        "country_region = pd.read_csv(\"country_region_mapping.csv\")"
      ]
    },
    {
      "cell_type": "code",
      "execution_count": null,
      "id": "534d9abc-e936-4dc6-a5ce-0ed57b31ac14",
      "metadata": {
        "id": "534d9abc-e936-4dc6-a5ce-0ed57b31ac14"
      },
      "outputs": [],
      "source": [
        "# Load the FAO country codes data\n",
        "fao_country_mapping = pd.read_excel(\"fao_country_mapping.xlsx\")"
      ]
    },
    {
      "cell_type": "markdown",
      "id": "a5812cae-8e1d-4dde-b8eb-2b6f51dd2626",
      "metadata": {
        "id": "a5812cae-8e1d-4dde-b8eb-2b6f51dd2626"
      },
      "source": [
        "## Get more familiar with the Data\n",
        "You should spend a little time getting to know the data.  Inspect a few rows of each dataset and examine the values in the columns to make sure they meet our needs..\n",
        "\n",
        "The files need to relate to each other, so that we can compare the different metrics across the different countries.  Using pen and paper or a separate drawing application, draw a diagram showing how the 6 files relate to each other.  In the diagram show which field in each file relates to which field in another file.  \n",
        "\n",
        "The following functions can help:\n",
        "\n",
        "- [pandas.DataFrame.head](https://pandas.pydata.org/docs/reference/api/pandas.DataFrame.head.html)\n",
        "- [pandas.unique](https://pandas.pydata.org/docs/reference/api/pandas.unique.html)\n",
        "- [pandas.Series.value_counts](https://pandas.pydata.org/docs/reference/api/pandas.Series.value_counts.html)\n",
        "\n"
      ]
    },
    {
      "cell_type": "markdown",
      "id": "1aee1f6a-0f43-4bda-86d0-953a55d1480b",
      "metadata": {
        "id": "1aee1f6a-0f43-4bda-86d0-953a55d1480b"
      },
      "source": [
        "<div style=\"background-color:lemonchiffon; border:1px solid; padding:5px; margin:5px; font-weight:bold\"><font color=\"crimson\">\n",
        "TODO: Add code cells below to explore the data a little.  A couple of examples have been provided.\n",
        "    </font></div>"
      ]
    },
    {
      "cell_type": "markdown",
      "id": "211b4d52-caf4-408f-bdff-590ffe8df2e1",
      "metadata": {
        "id": "211b4d52-caf4-408f-bdff-590ffe8df2e1"
      },
      "source": [
        "### Animal\n",
        "Inspect the animal data"
      ]
    },
    {
      "cell_type": "code",
      "execution_count": null,
      "id": "9b68ea1a-dd99-4684-82c8-13ac1ba93a50",
      "metadata": {
        "id": "9b68ea1a-dd99-4684-82c8-13ac1ba93a50",
        "outputId": "895781ad-d3d1-4484-c626-d8ab11806843",
        "colab": {
          "base_uri": "https://localhost:8080/",
          "height": 310
        }
      },
      "outputs": [
        {
          "output_type": "execute_result",
          "data": {
            "text/plain": [
              "  Domain Code                 Domain  Area Code (M49)         Area  \\\n",
              "0         FBS  Food Balances (2010-)                4  Afghanistan   \n",
              "1         FBS  Food Balances (2010-)                4  Afghanistan   \n",
              "2         FBS  Food Balances (2010-)                4  Afghanistan   \n",
              "3         FBS  Food Balances (2010-)                4  Afghanistan   \n",
              "4         FBS  Food Balances (2010-)                4  Afghanistan   \n",
              "\n",
              "   Element Code                                 Element Item Code (FBS)  \\\n",
              "0          5611                         Import quantity           S2731   \n",
              "1           645     Food supply quantity (kg/capita/yr)           S2731   \n",
              "2           674  Protein supply quantity (g/capita/day)           S2731   \n",
              "3          5611                         Import quantity           S2731   \n",
              "4           645     Food supply quantity (kg/capita/yr)           S2731   \n",
              "\n",
              "          Item  Year Code  Year     Unit  Value Flag Flag Description  Note  \n",
              "0  Bovine Meat       2016  2016   1000 t   7.00    I    Imputed value   NaN  \n",
              "1  Bovine Meat       2016  2016   kg/cap   3.28    E  Estimated value   NaN  \n",
              "2  Bovine Meat       2016  2016  g/cap/d   1.37    E  Estimated value   NaN  \n",
              "3  Bovine Meat       2022  2022   1000 t   0.00    I    Imputed value   NaN  \n",
              "4  Bovine Meat       2022  2022   kg/cap   1.99    E  Estimated value   NaN  "
            ],
            "text/html": [
              "\n",
              "  <div id=\"df-04715058-b98d-45c8-b278-f5058b6cd74e\" class=\"colab-df-container\">\n",
              "    <div>\n",
              "<style scoped>\n",
              "    .dataframe tbody tr th:only-of-type {\n",
              "        vertical-align: middle;\n",
              "    }\n",
              "\n",
              "    .dataframe tbody tr th {\n",
              "        vertical-align: top;\n",
              "    }\n",
              "\n",
              "    .dataframe thead th {\n",
              "        text-align: right;\n",
              "    }\n",
              "</style>\n",
              "<table border=\"1\" class=\"dataframe\">\n",
              "  <thead>\n",
              "    <tr style=\"text-align: right;\">\n",
              "      <th></th>\n",
              "      <th>Domain Code</th>\n",
              "      <th>Domain</th>\n",
              "      <th>Area Code (M49)</th>\n",
              "      <th>Area</th>\n",
              "      <th>Element Code</th>\n",
              "      <th>Element</th>\n",
              "      <th>Item Code (FBS)</th>\n",
              "      <th>Item</th>\n",
              "      <th>Year Code</th>\n",
              "      <th>Year</th>\n",
              "      <th>Unit</th>\n",
              "      <th>Value</th>\n",
              "      <th>Flag</th>\n",
              "      <th>Flag Description</th>\n",
              "      <th>Note</th>\n",
              "    </tr>\n",
              "  </thead>\n",
              "  <tbody>\n",
              "    <tr>\n",
              "      <th>0</th>\n",
              "      <td>FBS</td>\n",
              "      <td>Food Balances (2010-)</td>\n",
              "      <td>4</td>\n",
              "      <td>Afghanistan</td>\n",
              "      <td>5611</td>\n",
              "      <td>Import quantity</td>\n",
              "      <td>S2731</td>\n",
              "      <td>Bovine Meat</td>\n",
              "      <td>2016</td>\n",
              "      <td>2016</td>\n",
              "      <td>1000 t</td>\n",
              "      <td>7.00</td>\n",
              "      <td>I</td>\n",
              "      <td>Imputed value</td>\n",
              "      <td>NaN</td>\n",
              "    </tr>\n",
              "    <tr>\n",
              "      <th>1</th>\n",
              "      <td>FBS</td>\n",
              "      <td>Food Balances (2010-)</td>\n",
              "      <td>4</td>\n",
              "      <td>Afghanistan</td>\n",
              "      <td>645</td>\n",
              "      <td>Food supply quantity (kg/capita/yr)</td>\n",
              "      <td>S2731</td>\n",
              "      <td>Bovine Meat</td>\n",
              "      <td>2016</td>\n",
              "      <td>2016</td>\n",
              "      <td>kg/cap</td>\n",
              "      <td>3.28</td>\n",
              "      <td>E</td>\n",
              "      <td>Estimated value</td>\n",
              "      <td>NaN</td>\n",
              "    </tr>\n",
              "    <tr>\n",
              "      <th>2</th>\n",
              "      <td>FBS</td>\n",
              "      <td>Food Balances (2010-)</td>\n",
              "      <td>4</td>\n",
              "      <td>Afghanistan</td>\n",
              "      <td>674</td>\n",
              "      <td>Protein supply quantity (g/capita/day)</td>\n",
              "      <td>S2731</td>\n",
              "      <td>Bovine Meat</td>\n",
              "      <td>2016</td>\n",
              "      <td>2016</td>\n",
              "      <td>g/cap/d</td>\n",
              "      <td>1.37</td>\n",
              "      <td>E</td>\n",
              "      <td>Estimated value</td>\n",
              "      <td>NaN</td>\n",
              "    </tr>\n",
              "    <tr>\n",
              "      <th>3</th>\n",
              "      <td>FBS</td>\n",
              "      <td>Food Balances (2010-)</td>\n",
              "      <td>4</td>\n",
              "      <td>Afghanistan</td>\n",
              "      <td>5611</td>\n",
              "      <td>Import quantity</td>\n",
              "      <td>S2731</td>\n",
              "      <td>Bovine Meat</td>\n",
              "      <td>2022</td>\n",
              "      <td>2022</td>\n",
              "      <td>1000 t</td>\n",
              "      <td>0.00</td>\n",
              "      <td>I</td>\n",
              "      <td>Imputed value</td>\n",
              "      <td>NaN</td>\n",
              "    </tr>\n",
              "    <tr>\n",
              "      <th>4</th>\n",
              "      <td>FBS</td>\n",
              "      <td>Food Balances (2010-)</td>\n",
              "      <td>4</td>\n",
              "      <td>Afghanistan</td>\n",
              "      <td>645</td>\n",
              "      <td>Food supply quantity (kg/capita/yr)</td>\n",
              "      <td>S2731</td>\n",
              "      <td>Bovine Meat</td>\n",
              "      <td>2022</td>\n",
              "      <td>2022</td>\n",
              "      <td>kg/cap</td>\n",
              "      <td>1.99</td>\n",
              "      <td>E</td>\n",
              "      <td>Estimated value</td>\n",
              "      <td>NaN</td>\n",
              "    </tr>\n",
              "  </tbody>\n",
              "</table>\n",
              "</div>\n",
              "    <div class=\"colab-df-buttons\">\n",
              "\n",
              "  <div class=\"colab-df-container\">\n",
              "    <button class=\"colab-df-convert\" onclick=\"convertToInteractive('df-04715058-b98d-45c8-b278-f5058b6cd74e')\"\n",
              "            title=\"Convert this dataframe to an interactive table.\"\n",
              "            style=\"display:none;\">\n",
              "\n",
              "  <svg xmlns=\"http://www.w3.org/2000/svg\" height=\"24px\" viewBox=\"0 -960 960 960\">\n",
              "    <path d=\"M120-120v-720h720v720H120Zm60-500h600v-160H180v160Zm220 220h160v-160H400v160Zm0 220h160v-160H400v160ZM180-400h160v-160H180v160Zm440 0h160v-160H620v160ZM180-180h160v-160H180v160Zm440 0h160v-160H620v160Z\"/>\n",
              "  </svg>\n",
              "    </button>\n",
              "\n",
              "  <style>\n",
              "    .colab-df-container {\n",
              "      display:flex;\n",
              "      gap: 12px;\n",
              "    }\n",
              "\n",
              "    .colab-df-convert {\n",
              "      background-color: #E8F0FE;\n",
              "      border: none;\n",
              "      border-radius: 50%;\n",
              "      cursor: pointer;\n",
              "      display: none;\n",
              "      fill: #1967D2;\n",
              "      height: 32px;\n",
              "      padding: 0 0 0 0;\n",
              "      width: 32px;\n",
              "    }\n",
              "\n",
              "    .colab-df-convert:hover {\n",
              "      background-color: #E2EBFA;\n",
              "      box-shadow: 0px 1px 2px rgba(60, 64, 67, 0.3), 0px 1px 3px 1px rgba(60, 64, 67, 0.15);\n",
              "      fill: #174EA6;\n",
              "    }\n",
              "\n",
              "    .colab-df-buttons div {\n",
              "      margin-bottom: 4px;\n",
              "    }\n",
              "\n",
              "    [theme=dark] .colab-df-convert {\n",
              "      background-color: #3B4455;\n",
              "      fill: #D2E3FC;\n",
              "    }\n",
              "\n",
              "    [theme=dark] .colab-df-convert:hover {\n",
              "      background-color: #434B5C;\n",
              "      box-shadow: 0px 1px 3px 1px rgba(0, 0, 0, 0.15);\n",
              "      filter: drop-shadow(0px 1px 2px rgba(0, 0, 0, 0.3));\n",
              "      fill: #FFFFFF;\n",
              "    }\n",
              "  </style>\n",
              "\n",
              "    <script>\n",
              "      const buttonEl =\n",
              "        document.querySelector('#df-04715058-b98d-45c8-b278-f5058b6cd74e button.colab-df-convert');\n",
              "      buttonEl.style.display =\n",
              "        google.colab.kernel.accessAllowed ? 'block' : 'none';\n",
              "\n",
              "      async function convertToInteractive(key) {\n",
              "        const element = document.querySelector('#df-04715058-b98d-45c8-b278-f5058b6cd74e');\n",
              "        const dataTable =\n",
              "          await google.colab.kernel.invokeFunction('convertToInteractive',\n",
              "                                                    [key], {});\n",
              "        if (!dataTable) return;\n",
              "\n",
              "        const docLinkHtml = 'Like what you see? Visit the ' +\n",
              "          '<a target=\"_blank\" href=https://colab.research.google.com/notebooks/data_table.ipynb>data table notebook</a>'\n",
              "          + ' to learn more about interactive tables.';\n",
              "        element.innerHTML = '';\n",
              "        dataTable['output_type'] = 'display_data';\n",
              "        await google.colab.output.renderOutput(dataTable, element);\n",
              "        const docLink = document.createElement('div');\n",
              "        docLink.innerHTML = docLinkHtml;\n",
              "        element.appendChild(docLink);\n",
              "      }\n",
              "    </script>\n",
              "  </div>\n",
              "\n",
              "\n",
              "    <div id=\"df-00b2eb5c-7a26-4667-84eb-1e3a86cb1b8b\">\n",
              "      <button class=\"colab-df-quickchart\" onclick=\"quickchart('df-00b2eb5c-7a26-4667-84eb-1e3a86cb1b8b')\"\n",
              "                title=\"Suggest charts\"\n",
              "                style=\"display:none;\">\n",
              "\n",
              "<svg xmlns=\"http://www.w3.org/2000/svg\" height=\"24px\"viewBox=\"0 0 24 24\"\n",
              "     width=\"24px\">\n",
              "    <g>\n",
              "        <path d=\"M19 3H5c-1.1 0-2 .9-2 2v14c0 1.1.9 2 2 2h14c1.1 0 2-.9 2-2V5c0-1.1-.9-2-2-2zM9 17H7v-7h2v7zm4 0h-2V7h2v10zm4 0h-2v-4h2v4z\"/>\n",
              "    </g>\n",
              "</svg>\n",
              "      </button>\n",
              "\n",
              "<style>\n",
              "  .colab-df-quickchart {\n",
              "      --bg-color: #E8F0FE;\n",
              "      --fill-color: #1967D2;\n",
              "      --hover-bg-color: #E2EBFA;\n",
              "      --hover-fill-color: #174EA6;\n",
              "      --disabled-fill-color: #AAA;\n",
              "      --disabled-bg-color: #DDD;\n",
              "  }\n",
              "\n",
              "  [theme=dark] .colab-df-quickchart {\n",
              "      --bg-color: #3B4455;\n",
              "      --fill-color: #D2E3FC;\n",
              "      --hover-bg-color: #434B5C;\n",
              "      --hover-fill-color: #FFFFFF;\n",
              "      --disabled-bg-color: #3B4455;\n",
              "      --disabled-fill-color: #666;\n",
              "  }\n",
              "\n",
              "  .colab-df-quickchart {\n",
              "    background-color: var(--bg-color);\n",
              "    border: none;\n",
              "    border-radius: 50%;\n",
              "    cursor: pointer;\n",
              "    display: none;\n",
              "    fill: var(--fill-color);\n",
              "    height: 32px;\n",
              "    padding: 0;\n",
              "    width: 32px;\n",
              "  }\n",
              "\n",
              "  .colab-df-quickchart:hover {\n",
              "    background-color: var(--hover-bg-color);\n",
              "    box-shadow: 0 1px 2px rgba(60, 64, 67, 0.3), 0 1px 3px 1px rgba(60, 64, 67, 0.15);\n",
              "    fill: var(--button-hover-fill-color);\n",
              "  }\n",
              "\n",
              "  .colab-df-quickchart-complete:disabled,\n",
              "  .colab-df-quickchart-complete:disabled:hover {\n",
              "    background-color: var(--disabled-bg-color);\n",
              "    fill: var(--disabled-fill-color);\n",
              "    box-shadow: none;\n",
              "  }\n",
              "\n",
              "  .colab-df-spinner {\n",
              "    border: 2px solid var(--fill-color);\n",
              "    border-color: transparent;\n",
              "    border-bottom-color: var(--fill-color);\n",
              "    animation:\n",
              "      spin 1s steps(1) infinite;\n",
              "  }\n",
              "\n",
              "  @keyframes spin {\n",
              "    0% {\n",
              "      border-color: transparent;\n",
              "      border-bottom-color: var(--fill-color);\n",
              "      border-left-color: var(--fill-color);\n",
              "    }\n",
              "    20% {\n",
              "      border-color: transparent;\n",
              "      border-left-color: var(--fill-color);\n",
              "      border-top-color: var(--fill-color);\n",
              "    }\n",
              "    30% {\n",
              "      border-color: transparent;\n",
              "      border-left-color: var(--fill-color);\n",
              "      border-top-color: var(--fill-color);\n",
              "      border-right-color: var(--fill-color);\n",
              "    }\n",
              "    40% {\n",
              "      border-color: transparent;\n",
              "      border-right-color: var(--fill-color);\n",
              "      border-top-color: var(--fill-color);\n",
              "    }\n",
              "    60% {\n",
              "      border-color: transparent;\n",
              "      border-right-color: var(--fill-color);\n",
              "    }\n",
              "    80% {\n",
              "      border-color: transparent;\n",
              "      border-right-color: var(--fill-color);\n",
              "      border-bottom-color: var(--fill-color);\n",
              "    }\n",
              "    90% {\n",
              "      border-color: transparent;\n",
              "      border-bottom-color: var(--fill-color);\n",
              "    }\n",
              "  }\n",
              "</style>\n",
              "\n",
              "      <script>\n",
              "        async function quickchart(key) {\n",
              "          const quickchartButtonEl =\n",
              "            document.querySelector('#' + key + ' button');\n",
              "          quickchartButtonEl.disabled = true;  // To prevent multiple clicks.\n",
              "          quickchartButtonEl.classList.add('colab-df-spinner');\n",
              "          try {\n",
              "            const charts = await google.colab.kernel.invokeFunction(\n",
              "                'suggestCharts', [key], {});\n",
              "          } catch (error) {\n",
              "            console.error('Error during call to suggestCharts:', error);\n",
              "          }\n",
              "          quickchartButtonEl.classList.remove('colab-df-spinner');\n",
              "          quickchartButtonEl.classList.add('colab-df-quickchart-complete');\n",
              "        }\n",
              "        (() => {\n",
              "          let quickchartButtonEl =\n",
              "            document.querySelector('#df-00b2eb5c-7a26-4667-84eb-1e3a86cb1b8b button');\n",
              "          quickchartButtonEl.style.display =\n",
              "            google.colab.kernel.accessAllowed ? 'block' : 'none';\n",
              "        })();\n",
              "      </script>\n",
              "    </div>\n",
              "\n",
              "    </div>\n",
              "  </div>\n"
            ],
            "application/vnd.google.colaboratory.intrinsic+json": {
              "type": "dataframe",
              "variable_name": "animal",
              "summary": "{\n  \"name\": \"animal\",\n  \"rows\": 21749,\n  \"fields\": [\n    {\n      \"column\": \"Domain Code\",\n      \"properties\": {\n        \"dtype\": \"category\",\n        \"num_unique_values\": 1,\n        \"samples\": [\n          \"FBS\"\n        ],\n        \"semantic_type\": \"\",\n        \"description\": \"\"\n      }\n    },\n    {\n      \"column\": \"Domain\",\n      \"properties\": {\n        \"dtype\": \"category\",\n        \"num_unique_values\": 1,\n        \"samples\": [\n          \"Food Balances (2010-)\"\n        ],\n        \"semantic_type\": \"\",\n        \"description\": \"\"\n      }\n    },\n    {\n      \"column\": \"Area Code (M49)\",\n      \"properties\": {\n        \"dtype\": \"number\",\n        \"std\": 251,\n        \"min\": 4,\n        \"max\": 894,\n        \"num_unique_values\": 190,\n        \"samples\": [\n          798\n        ],\n        \"semantic_type\": \"\",\n        \"description\": \"\"\n      }\n    },\n    {\n      \"column\": \"Area\",\n      \"properties\": {\n        \"dtype\": \"category\",\n        \"num_unique_values\": 190,\n        \"samples\": [\n          \"Tuvalu\"\n        ],\n        \"semantic_type\": \"\",\n        \"description\": \"\"\n      }\n    },\n    {\n      \"column\": \"Element Code\",\n      \"properties\": {\n        \"dtype\": \"number\",\n        \"std\": 2371,\n        \"min\": 645,\n        \"max\": 5611,\n        \"num_unique_values\": 3,\n        \"samples\": [\n          5611\n        ],\n        \"semantic_type\": \"\",\n        \"description\": \"\"\n      }\n    },\n    {\n      \"column\": \"Element\",\n      \"properties\": {\n        \"dtype\": \"category\",\n        \"num_unique_values\": 3,\n        \"samples\": [\n          \"Import quantity\"\n        ],\n        \"semantic_type\": \"\",\n        \"description\": \"\"\n      }\n    },\n    {\n      \"column\": \"Item Code (FBS)\",\n      \"properties\": {\n        \"dtype\": \"category\",\n        \"num_unique_values\": 22,\n        \"samples\": [\n          \"S2731\"\n        ],\n        \"semantic_type\": \"\",\n        \"description\": \"\"\n      }\n    },\n    {\n      \"column\": \"Item\",\n      \"properties\": {\n        \"dtype\": \"category\",\n        \"num_unique_values\": 22,\n        \"samples\": [\n          \"Bovine Meat\"\n        ],\n        \"semantic_type\": \"\",\n        \"description\": \"\"\n      }\n    },\n    {\n      \"column\": \"Year Code\",\n      \"properties\": {\n        \"dtype\": \"number\",\n        \"std\": 2,\n        \"min\": 2016,\n        \"max\": 2022,\n        \"num_unique_values\": 2,\n        \"samples\": [\n          2022\n        ],\n        \"semantic_type\": \"\",\n        \"description\": \"\"\n      }\n    },\n    {\n      \"column\": \"Year\",\n      \"properties\": {\n        \"dtype\": \"number\",\n        \"std\": 2,\n        \"min\": 2016,\n        \"max\": 2022,\n        \"num_unique_values\": 2,\n        \"samples\": [\n          2022\n        ],\n        \"semantic_type\": \"\",\n        \"description\": \"\"\n      }\n    },\n    {\n      \"column\": \"Unit\",\n      \"properties\": {\n        \"dtype\": \"category\",\n        \"num_unique_values\": 3,\n        \"samples\": [\n          \"1000 t\"\n        ],\n        \"semantic_type\": \"\",\n        \"description\": \"\"\n      }\n    },\n    {\n      \"column\": \"Value\",\n      \"properties\": {\n        \"dtype\": \"number\",\n        \"std\": 449.469397000947,\n        \"min\": 0.0,\n        \"max\": 24223.0,\n        \"num_unique_values\": 3421,\n        \"samples\": [\n          41.83\n        ],\n        \"semantic_type\": \"\",\n        \"description\": \"\"\n      }\n    },\n    {\n      \"column\": \"Flag\",\n      \"properties\": {\n        \"dtype\": \"category\",\n        \"num_unique_values\": 2,\n        \"samples\": [\n          \"E\"\n        ],\n        \"semantic_type\": \"\",\n        \"description\": \"\"\n      }\n    },\n    {\n      \"column\": \"Flag Description\",\n      \"properties\": {\n        \"dtype\": \"category\",\n        \"num_unique_values\": 2,\n        \"samples\": [\n          \"Estimated value\"\n        ],\n        \"semantic_type\": \"\",\n        \"description\": \"\"\n      }\n    },\n    {\n      \"column\": \"Note\",\n      \"properties\": {\n        \"dtype\": \"number\",\n        \"std\": null,\n        \"min\": null,\n        \"max\": null,\n        \"num_unique_values\": 0,\n        \"samples\": [],\n        \"semantic_type\": \"\",\n        \"description\": \"\"\n      }\n    }\n  ]\n}"
            }
          },
          "metadata": {},
          "execution_count": 18
        }
      ],
      "source": [
        "animal.head()"
      ]
    },
    {
      "cell_type": "code",
      "source": [
        "unique_values = animal['Element'].unique()\n",
        "print(unique_values)\n"
      ],
      "metadata": {
        "colab": {
          "base_uri": "https://localhost:8080/"
        },
        "id": "TCOAndpoFocr",
        "outputId": "cb014289-4b53-4e29-f60f-5b3ba941b8d1"
      },
      "id": "TCOAndpoFocr",
      "execution_count": null,
      "outputs": [
        {
          "output_type": "stream",
          "name": "stdout",
          "text": [
            "['Import quantity' 'Food supply quantity (kg/capita/yr)'\n",
            " 'Protein supply quantity (g/capita/day)']\n"
          ]
        }
      ]
    },
    {
      "cell_type": "code",
      "execution_count": null,
      "id": "87fae4ab",
      "metadata": {
        "id": "87fae4ab",
        "outputId": "c0c68417-8c1a-4433-cf3b-6a79991c85df",
        "colab": {
          "base_uri": "https://localhost:8080/"
        }
      },
      "outputs": [
        {
          "output_type": "stream",
          "name": "stdout",
          "text": [
            "Index(['Domain Code', 'Domain', 'Area Code (M49)', 'Area', 'Element Code',\n",
            "       'Element', 'Item Code (FBS)', 'Item', 'Year Code', 'Year', 'Unit',\n",
            "       'Value', 'Flag', 'Flag Description', 'Note'],\n",
            "      dtype='object')\n"
          ]
        }
      ],
      "source": [
        "print(animal.columns)"
      ]
    },
    {
      "cell_type": "markdown",
      "id": "882af68c-85da-44ad-a2b6-475caa07a13d",
      "metadata": {
        "id": "882af68c-85da-44ad-a2b6-475caa07a13d"
      },
      "source": [
        "### Vegetal\n",
        "Inspect the vegetal data."
      ]
    },
    {
      "cell_type": "code",
      "execution_count": null,
      "id": "7f0273d8-2d54-45ac-8156-69ed205ef1cc",
      "metadata": {
        "id": "7f0273d8-2d54-45ac-8156-69ed205ef1cc",
        "outputId": "03e2515e-892c-4c3c-acca-6cf9f6f13d65",
        "colab": {
          "base_uri": "https://localhost:8080/"
        }
      },
      "outputs": [
        {
          "output_type": "stream",
          "name": "stdout",
          "text": [
            "  Domain Code                 Domain  Area Code (M49)         Area  \\\n",
            "0         FBS  Food Balances (2010-)                4  Afghanistan   \n",
            "1         FBS  Food Balances (2010-)                4  Afghanistan   \n",
            "2         FBS  Food Balances (2010-)                4  Afghanistan   \n",
            "3         FBS  Food Balances (2010-)                4  Afghanistan   \n",
            "4         FBS  Food Balances (2010-)                4  Afghanistan   \n",
            "\n",
            "   Element Code                                 Element Item Code (FBS)  \\\n",
            "0          5611                         Import quantity           S2511   \n",
            "1           645     Food supply quantity (kg/capita/yr)           S2511   \n",
            "2           674  Protein supply quantity (g/capita/day)           S2511   \n",
            "3          5611                         Import quantity           S2511   \n",
            "4           645     Food supply quantity (kg/capita/yr)           S2511   \n",
            "\n",
            "                 Item  Year Code  Year     Unit    Value Flag  \\\n",
            "0  Wheat and products       2016  2016   1000 t  2784.00    I   \n",
            "1  Wheat and products       2016  2016   kg/cap   166.90    E   \n",
            "2  Wheat and products       2016  2016  g/cap/d    42.22    E   \n",
            "3  Wheat and products       2022  2022   1000 t  3538.00    I   \n",
            "4  Wheat and products       2022  2022   kg/cap   157.12    E   \n",
            "\n",
            "  Flag Description  Note  \n",
            "0    Imputed value   NaN  \n",
            "1  Estimated value   NaN  \n",
            "2  Estimated value   NaN  \n",
            "3    Imputed value   NaN  \n",
            "4  Estimated value   NaN  \n",
            "Index(['Domain Code', 'Domain', 'Area Code (M49)', 'Area', 'Element Code',\n",
            "       'Element', 'Item Code (FBS)', 'Item', 'Year Code', 'Year', 'Unit',\n",
            "       'Value', 'Flag', 'Flag Description', 'Note'],\n",
            "      dtype='object')\n"
          ]
        }
      ],
      "source": [
        "print(vegetal.head())\n",
        "print(vegetal.columns)"
      ]
    },
    {
      "cell_type": "markdown",
      "id": "e63a3b7b-a0ea-46e4-8f12-c8da1a4d810c",
      "metadata": {
        "id": "e63a3b7b-a0ea-46e4-8f12-c8da1a4d810c"
      },
      "source": [
        "### GDP per capita growth\n",
        "Inspect the GDP per capita growth data."
      ]
    },
    {
      "cell_type": "code",
      "execution_count": null,
      "id": "95004cd4-ff26-4b38-a766-2e7935004469",
      "metadata": {
        "id": "95004cd4-ff26-4b38-a766-2e7935004469",
        "outputId": "866a5afc-bc92-44e2-a51e-4f6f2f77ef4b",
        "colab": {
          "base_uri": "https://localhost:8080/"
        }
      },
      "outputs": [
        {
          "output_type": "stream",
          "name": "stdout",
          "text": [
            "                  Country Name Country Code                    Indicator Name  \\\n",
            "0                        Aruba          ABW  GDP per capita growth (annual %)   \n",
            "1  Africa Eastern and Southern          AFE  GDP per capita growth (annual %)   \n",
            "2                  Afghanistan          AFG  GDP per capita growth (annual %)   \n",
            "3   Africa Western and Central          AFW  GDP per capita growth (annual %)   \n",
            "4                       Angola          AGO  GDP per capita growth (annual %)   \n",
            "\n",
            "      Indicator Code  1960      1961      1962      1963      1964      1965  \\\n",
            "0  NY.GDP.PCAP.KD.ZG   NaN       NaN       NaN       NaN       NaN       NaN   \n",
            "1  NY.GDP.PCAP.KD.ZG   NaN -2.136630  5.009835  2.794289  1.830475  2.245841   \n",
            "2  NY.GDP.PCAP.KD.ZG   NaN       NaN       NaN       NaN       NaN       NaN   \n",
            "3  NY.GDP.PCAP.KD.ZG   NaN -0.247796  1.525510  4.812660  3.135739  1.838625   \n",
            "4  NY.GDP.PCAP.KD.ZG   NaN       NaN       NaN       NaN       NaN       NaN   \n",
            "\n",
            "       1966       1967      1968       1969       1970      1971      1972  \\\n",
            "0       NaN        NaN       NaN        NaN        NaN       NaN       NaN   \n",
            "1  1.917904   2.418062  1.186210   2.097636  -1.747625  2.477136 -0.110166   \n",
            "2       NaN        NaN       NaN        NaN        NaN       NaN       NaN   \n",
            "3 -3.708118 -11.080289 -0.743986  12.553463  14.733574  7.901178  0.664988   \n",
            "4       NaN        NaN       NaN        NaN        NaN       NaN       NaN   \n",
            "\n",
            "       1973      1974      1975      1976      1977      1978      1979  \\\n",
            "0       NaN       NaN       NaN       NaN       NaN       NaN       NaN   \n",
            "1  1.595887  2.383976 -1.515149 -0.561033 -1.699047 -1.480369 -0.240458   \n",
            "2       NaN       NaN       NaN       NaN       NaN       NaN       NaN   \n",
            "3  1.424879  7.197209 -4.722206  5.555789  1.761628 -4.632850  2.161483   \n",
            "4       NaN       NaN       NaN       NaN       NaN       NaN       NaN   \n",
            "\n",
            "       1980      1981      1982      1983      1984      1985      1986  \\\n",
            "0       NaN       NaN       NaN       NaN       NaN       NaN       NaN   \n",
            "1  2.346863  0.844490 -2.858611 -3.045377  0.277329 -3.091139 -0.744192   \n",
            "2       NaN       NaN       NaN       NaN       NaN       NaN       NaN   \n",
            "3 -0.914082 -9.364999 -6.022775 -8.863464 -2.084163  2.491179 -1.380042   \n",
            "4       NaN -7.819538 -3.611217  0.398926  2.143507 -0.238221 -0.756800   \n",
            "\n",
            "        1987       1988       1989      1990      1991      1992       1993  \\\n",
            "0  17.593206  18.304687  10.066932  0.134480  2.813435  1.111856   0.492195   \n",
            "1   0.885399   1.287891  -0.166717 -2.655658 -2.808265 -4.910566  -3.314233   \n",
            "2        NaN        NaN        NaN       NaN       NaN       NaN        NaN   \n",
            "3  -1.302032   1.817787  -1.069822  2.983530 -1.618631 -0.410927  -3.936399   \n",
            "4   0.529253   2.577679  -3.316709 -6.670527 -2.344653 -8.871345 -26.374196   \n",
            "\n",
            "       1994       1995      1996      1997      1998      1999      2000  \\\n",
            "0  2.751524  -0.292643 -2.733864  2.978397 -0.487160 -0.125966  6.519224   \n",
            "1 -0.745923   1.610810  2.699137  1.214009 -0.850095 -0.007474  0.570581   \n",
            "2       NaN        NaN       NaN       NaN       NaN       NaN       NaN   \n",
            "3 -2.941386  -0.858862  1.830519  1.608616  0.781258 -1.202388  1.049676   \n",
            "4 -1.893068  11.222449  9.768938  3.692910  1.245332 -1.130799 -0.302928   \n",
            "\n",
            "        2001       2002      2003      2004       2005      2006       2007  \\\n",
            "0   3.212406  -1.628099 -0.033839  5.026912  -2.930823 -0.673258   2.322678   \n",
            "1   0.860717   1.163242  0.294752  2.803787   3.378235  3.770141   3.814958   \n",
            "2 -10.119484  22.020190  2.345672 -2.148212   7.383377  1.132485  11.692303   \n",
            "3   2.266509   6.926700  2.617099  4.975839   2.861281  2.434953   2.594343   \n",
            "4   0.769185   9.857802 -0.545678  7.032773  10.911244  7.514315   9.821944   \n",
            "\n",
            "       2008       2009       2010      2011      2012      2013      2014  \\\n",
            "0  1.061772 -12.274936  -2.956953  2.610525 -2.484648  4.855279 -2.629615   \n",
            "1  1.563935  -1.852648   2.393038  1.308359 -0.957114  1.512944  1.218467   \n",
            "2  1.677279  17.043896  11.055031 -3.213295  8.279369  2.052068 -0.939985   \n",
            "3  3.317163   3.345419   4.029455  1.934559  2.283517  3.299862  3.067195   \n",
            "4  7.048035  -2.902289   0.454324 -0.473683  4.407587  0.990676  0.981944   \n",
            "\n",
            "       2015      2016      2017      2018      2019       2020       2021  \\\n",
            "0 -1.635753  0.951538  7.040657  2.234428 -2.496549 -25.793230  25.154964   \n",
            "1  0.264191 -0.468619  0.007074 -0.102513 -0.549575  -5.451410   1.842087   \n",
            "2 -1.665057 -0.300121 -0.195570 -1.713743  0.856295  -5.382515 -22.584482   \n",
            "3 -0.015338 -2.480965 -0.361652  0.271792  0.744453  -3.341152   1.607197   \n",
            "4 -2.630702 -6.002649 -3.620758 -4.665970 -4.010017  -8.672076  -1.969591   \n",
            "\n",
            "       2022      2023  \n",
            "0  8.912308  4.216132  \n",
            "1  0.903488 -0.226928  \n",
            "2 -7.576669  0.540656  \n",
            "3  1.397034  0.917671  \n",
            "4 -0.143628 -2.062773  \n"
          ]
        }
      ],
      "source": [
        "print(gdp_growth.head())"
      ]
    },
    {
      "cell_type": "code",
      "execution_count": null,
      "id": "c1e260fc",
      "metadata": {
        "id": "c1e260fc",
        "outputId": "0669299a-406c-4bd0-d0d2-f2a3180eb3e0"
      },
      "outputs": [
        {
          "name": "stdout",
          "output_type": "stream",
          "text": [
            "Index(['Country Name', 'Country Code', 'Indicator Name', 'Indicator Code',\n",
            "       '1960', '1961', '1962', '1963', '1964', '1965', '1966', '1967', '1968',\n",
            "       '1969', '1970', '1971', '1972', '1973', '1974', '1975', '1976', '1977',\n",
            "       '1978', '1979', '1980', '1981', '1982', '1983', '1984', '1985', '1986',\n",
            "       '1987', '1988', '1989', '1990', '1991', '1992', '1993', '1994', '1995',\n",
            "       '1996', '1997', '1998', '1999', '2000', '2001', '2002', '2003', '2004',\n",
            "       '2005', '2006', '2007', '2008', '2009', '2010', '2011', '2012', '2013',\n",
            "       '2014', '2015', '2016', '2017', '2018', '2019', '2020', '2021', '2022'],\n",
            "      dtype='object')\n"
          ]
        }
      ],
      "source": [
        "print(gdp_growth.columns)"
      ]
    },
    {
      "cell_type": "markdown",
      "id": "9ddae327-5c97-4ee8-a4f1-1dfd4560aed0",
      "metadata": {
        "id": "9ddae327-5c97-4ee8-a4f1-1dfd4560aed0"
      },
      "source": [
        "### Population growth\n",
        "Inspect the population growth data."
      ]
    },
    {
      "cell_type": "code",
      "execution_count": null,
      "id": "1afc1bd9-eae2-4192-8ffc-e3d8f2db15e4",
      "metadata": {
        "id": "1afc1bd9-eae2-4192-8ffc-e3d8f2db15e4",
        "outputId": "7657d660-d017-438e-b6c9-2bf639df75e0",
        "colab": {
          "base_uri": "https://localhost:8080/"
        }
      },
      "outputs": [
        {
          "output_type": "stream",
          "name": "stdout",
          "text": [
            "                  Country Name Country Code                Indicator Name  \\\n",
            "0                        Aruba          ABW  Population growth (annual %)   \n",
            "1  Africa Eastern and Southern          AFE  Population growth (annual %)   \n",
            "2                  Afghanistan          AFG  Population growth (annual %)   \n",
            "3   Africa Western and Central          AFW  Population growth (annual %)   \n",
            "4                       Angola          AGO  Population growth (annual %)   \n",
            "\n",
            "  Indicator Code  1960      1961      1962      1963      1964      1965  \\\n",
            "0    SP.POP.GROW   NaN  1.187344  1.326227  1.203664  1.076602  0.986114   \n",
            "1    SP.POP.GROW   NaN  2.662249  2.723434  2.751208  2.808573  2.849732   \n",
            "2    SP.POP.GROW   NaN  1.962239  2.044523  2.105208  2.161195  2.233709   \n",
            "3    SP.POP.GROW   NaN  2.126118  2.154401  2.193731  2.208938  2.241025   \n",
            "4    SP.POP.GROW   NaN  1.327797  0.989639  1.003666  1.027684  1.052133   \n",
            "\n",
            "       1966      1967      1968      1969      1970      1971      1972  \\\n",
            "0  0.862399  0.503043  0.133831 -0.028784 -0.172878 -0.287095 -1.256565   \n",
            "1  2.850186  2.885662  2.932712  2.931600  2.930631  2.928935  2.883389   \n",
            "2  2.269651  2.306668  2.360683  2.392720  2.445206  2.428516  2.442584   \n",
            "3  2.274764  2.290459  2.328412  2.369268  2.418565  2.446144  2.481389   \n",
            "4  1.070046  1.076727  1.073517  1.063746  1.534110  2.335724  3.011399   \n",
            "\n",
            "       1973      1974      1975      1976      1977      1978      1979  \\\n",
            "0  0.433191  0.085728 -0.092589  0.125147  0.362555  0.334027  0.703589   \n",
            "1  2.963642  3.019615  2.964973  2.960267  2.870010  3.034658  3.178560   \n",
            "2  2.534759  2.526844  2.415250  2.213446  2.128100  2.008698  0.323659   \n",
            "3  2.553860  2.633428  2.711655  2.718739  2.754938  2.833365  2.871689   \n",
            "4  3.411452  3.458902  3.412558  3.330146  3.379375  3.476854  3.507544   \n",
            "\n",
            "       1980      1981      1982      1983      1984      1985      1986  \\\n",
            "0  1.205724  1.085740  1.170410  1.541681  1.075700 -1.882443 -2.954374   \n",
            "1  3.044373  3.141507  3.267858  3.182235  3.080514  3.056781  3.032604   \n",
            "2 -3.625808 -9.819771 -8.258034 -0.669999  2.462912  2.092575 -0.059334   \n",
            "3  2.872775  2.887514  2.944902  2.770137  2.669813  2.771684  2.777788   \n",
            "4  3.587940  3.642460  3.678035  3.716064  3.706036  3.678648  3.618426   \n",
            "\n",
            "       1987      1988      1989      1990      1991      1992       1993  \\\n",
            "0 -1.296517  0.290320  1.856884  3.750561  4.887136  4.610122   6.562028   \n",
            "1  3.042116  2.947306  2.866056  2.908030  2.788875  2.696188   2.808198   \n",
            "2 -0.282850  1.182671  2.998765  1.434588  1.591326  8.156419  11.807259   \n",
            "3  2.775682  2.786411  2.809908  2.697097  2.678238  2.794266   2.737631   \n",
            "4  3.473748  3.403395  3.414572  3.392403  3.359055  3.274142   3.195594   \n",
            "\n",
            "       1994      1995      1996      1997      1998      1999      2000  \\\n",
            "0  5.170374  2.808317  3.950743  3.874760  2.460754  1.356486  1.030817   \n",
            "1  2.694993  2.630244  2.680503  2.596752  2.624683  2.657594  2.629363   \n",
            "2  8.388730  4.893680  4.005405  3.804508  3.764687  3.728116  1.212176   \n",
            "3  2.690171  2.760442  2.757931  2.756377  2.800173  2.769314  2.789522   \n",
            "4  3.241689  3.339989  3.381609  3.395515  3.346795  3.295277  3.312287   \n",
            "\n",
            "       2001      2002      2003      2004      2005      2006      2007  \\\n",
            "0  0.935033  0.692052  1.138229  2.135358  2.590757  1.796638  0.746665   \n",
            "1  2.622438  2.642102  2.653667  2.676565  2.694131  2.705723  2.727992   \n",
            "2  0.762005  5.252030  6.145194  3.575835  3.519217  4.092702  1.892598   \n",
            "3  2.841152  2.850646  2.854146  2.868949  2.880290  2.866397  2.862165   \n",
            "4  3.353709  3.407476  3.493343  3.594458  3.646269  3.684892  3.742580   \n",
            "\n",
            "       2008      2009      2010      2011      2012      2013      2014  \\\n",
            "0  0.762933  0.678451  0.230041  0.736689  1.469782  1.492031  1.065512   \n",
            "1  2.761070  2.775044  2.772256  2.720982  2.730116  2.786358  2.740997   \n",
            "2  2.186546  3.646381  2.934687  3.691503  4.047863  3.418227  3.632519   \n",
            "3  2.866384  2.831726  2.826189  2.863081  2.820300  2.768800  2.767930   \n",
            "4  3.778290  3.801562  3.851098  3.887946  3.883584  3.849981  3.732728   \n",
            "\n",
            "       2015      2016      2017      2018      2019      2020      2021  \\\n",
            "0  1.023701  0.757968  0.007358  0.158976  0.270505 -0.565684 -0.820211   \n",
            "1  2.733524  2.675920  2.677279  2.771987  2.759057  2.736283  2.684849   \n",
            "2  3.119959  2.535720  2.808337  2.910810  2.984389  3.153609  2.356098   \n",
            "3  2.736122  2.708956  2.661087  2.565989  2.470061  2.417945  2.391989   \n",
            "4  3.605072  3.576441  3.540612  3.453233  3.387884  3.267959  3.181323   \n",
            "\n",
            "       2022      2023  \n",
            "0 -0.362774  0.045652  \n",
            "1  2.626659  2.552859  \n",
            "2  1.435704  2.135594  \n",
            "3  2.359680  2.414901  \n",
            "4  3.143026  3.080655  \n",
            "Index(['Country Name', 'Country Code', 'Indicator Name', 'Indicator Code',\n",
            "       '1960', '1961', '1962', '1963', '1964', '1965', '1966', '1967', '1968',\n",
            "       '1969', '1970', '1971', '1972', '1973', '1974', '1975', '1976', '1977',\n",
            "       '1978', '1979', '1980', '1981', '1982', '1983', '1984', '1985', '1986',\n",
            "       '1987', '1988', '1989', '1990', '1991', '1992', '1993', '1994', '1995',\n",
            "       '1996', '1997', '1998', '1999', '2000', '2001', '2002', '2003', '2004',\n",
            "       '2005', '2006', '2007', '2008', '2009', '2010', '2011', '2012', '2013',\n",
            "       '2014', '2015', '2016', '2017', '2018', '2019', '2020', '2021', '2022',\n",
            "       '2023'],\n",
            "      dtype='object')\n"
          ]
        }
      ],
      "source": [
        "print(pop_growth.head())\n",
        "print(pop_growth.columns)"
      ]
    },
    {
      "cell_type": "markdown",
      "id": "816d6aeb-d625-42de-82ba-d72a8296b166",
      "metadata": {
        "id": "816d6aeb-d625-42de-82ba-d72a8296b166"
      },
      "source": [
        "### Mapping tables\n",
        "Inspect the mapping tables"
      ]
    },
    {
      "cell_type": "code",
      "execution_count": null,
      "id": "f0ce1a46-b313-4a28-84b8-275042e6173a",
      "metadata": {
        "id": "f0ce1a46-b313-4a28-84b8-275042e6173a",
        "outputId": "53340100-aa25-4d5a-bedf-dcb1a1024a27",
        "colab": {
          "base_uri": "https://localhost:8080/"
        }
      },
      "outputs": [
        {
          "output_type": "stream",
          "name": "stdout",
          "text": [
            "             name alpha-2 alpha-3  country-code     iso_3166-2   region  \\\n",
            "0     Afghanistan      AF     AFG             4  ISO 3166-2:AF     Asia   \n",
            "1  Ã…land Islands      AX     ALA           248  ISO 3166-2:AX   Europe   \n",
            "2         Albania      AL     ALB             8  ISO 3166-2:AL   Europe   \n",
            "3         Algeria      DZ     DZA            12  ISO 3166-2:DZ   Africa   \n",
            "4  American Samoa      AS     ASM            16  ISO 3166-2:AS  Oceania   \n",
            "\n",
            "        sub-region intermediate-region  region-code  sub-region-code  \\\n",
            "0    Southern Asia                 NaN        142.0             34.0   \n",
            "1  Northern Europe                 NaN        150.0            154.0   \n",
            "2  Southern Europe                 NaN        150.0             39.0   \n",
            "3  Northern Africa                 NaN          2.0             15.0   \n",
            "4        Polynesia                 NaN          9.0             61.0   \n",
            "\n",
            "   intermediate-region-code  \n",
            "0                       NaN  \n",
            "1                       NaN  \n",
            "2                       NaN  \n",
            "3                       NaN  \n",
            "4                       NaN  \n",
            "Index(['name', 'alpha-2', 'alpha-3', 'country-code', 'iso_3166-2', 'region',\n",
            "       'sub-region', 'intermediate-region', 'region-code', 'sub-region-code',\n",
            "       'intermediate-region-code'],\n",
            "      dtype='object')\n"
          ]
        }
      ],
      "source": [
        "print(country_region.head())\n",
        "print(country_region.columns)"
      ]
    },
    {
      "cell_type": "code",
      "execution_count": null,
      "id": "c23dc223",
      "metadata": {
        "id": "c23dc223",
        "outputId": "4ae4af9b-6288-4ae3-baf9-3ad362f52d7b",
        "colab": {
          "base_uri": "https://localhost:8080/"
        }
      },
      "outputs": [
        {
          "output_type": "stream",
          "name": "stdout",
          "text": [
            "      ID ISO2 ISO3  AGROVOC CURRENCY ISO3  FAOSTAT   M49 UNDP  GAULCODE  \\\n",
            "0  15362   AF  AFG    163.0           AFN      2.0   4.0  AFG       1.0   \n",
            "1  79175  NaN  NaN      NaN           EUR      NaN   NaN  NaN       NaN   \n",
            "2  14640   AL  ALB    241.0           ALL      3.0   8.0  ALB       3.0   \n",
            "3  15363   DZ  DZA    259.0           DZD      4.0  12.0  ALG       4.0   \n",
            "4  84619   AS  ASM    336.0           USD      5.0  16.0  NaN       NaN   \n",
            "\n",
            "  MEMBERSHIP DATE           CATEGORY              LIST NAME  \n",
            "0      1949-12-01  FAO MEMBER NATION            Afghanistan  \n",
            "1             NaN          TERRITORY  Akrotiri and Dhekelia  \n",
            "2      1973-11-12  FAO MEMBER NATION                Albania  \n",
            "3      1963-11-19  FAO MEMBER NATION                Algeria  \n",
            "4             NaN          TERRITORY         American Samoa  \n",
            "Index(['ID', 'ISO2', 'ISO3', 'AGROVOC', 'CURRENCY ISO3', 'FAOSTAT', 'M49',\n",
            "       'UNDP', 'GAULCODE', 'MEMBERSHIP DATE', 'CATEGORY', 'LIST NAME'],\n",
            "      dtype='object')\n"
          ]
        }
      ],
      "source": [
        "# Inspect the FAO country codes data\n",
        "print(fao_country_mapping.head())\n",
        "print(fao_country_mapping.columns)"
      ]
    },
    {
      "cell_type": "markdown",
      "id": "20f11e40-29c3-461e-8f8c-d245be51c02b",
      "metadata": {
        "id": "20f11e40-29c3-461e-8f8c-d245be51c02b"
      },
      "source": [
        "## Join the Mappings Together\n",
        "\n",
        "You should now have 2 Pandas dataframes (fao_mapping and country_region) whose purpose is to facilitate joining the FAO and World Bank data together, and also to add region data.  You should combine these 2 dataframes into a single Pandas dataframe containing the following columns:\n",
        "\n",
        "- Country name\n",
        "- 3-letter ISO country code\n",
        "- Region name\n",
        "- FAOSTAT country code\n",
        "\n",
        "You can use the following function to merge the two datasets:\n",
        "\n",
        "- [pandas.merge](https://pandas.pydata.org/docs/reference/api/pandas.merge.html)\n"
      ]
    },
    {
      "cell_type": "markdown",
      "id": "3092cec7-635c-4cd2-87af-2d63bedbd0e5",
      "metadata": {
        "id": "3092cec7-635c-4cd2-87af-2d63bedbd0e5"
      },
      "source": [
        "<div style=\"background-color:lemonchiffon; border:1px solid; padding:5px; margin:5px; font-weight:bold\"><font color=\"crimson\">\n",
        "TODO: Create a single mapping dataframe called <code>mapping</code> that maps between the country name, 3-letter ISO code, FAO numeric code and region.\n",
        "    </font></div>"
      ]
    },
    {
      "cell_type": "code",
      "execution_count": null,
      "id": "dfe332bd-713c-490f-bd9f-22b8032f0f36",
      "metadata": {
        "scrolled": true,
        "id": "dfe332bd-713c-490f-bd9f-22b8032f0f36",
        "outputId": "888734af-a7f0-41a9-be47-05c82e612b2e",
        "colab": {
          "base_uri": "https://localhost:8080/",
          "height": 417
        }
      },
      "outputs": [
        {
          "output_type": "execute_result",
          "data": {
            "text/plain": [
              "      ID ISO2 ISO3  AGROVOC CURRENCY ISO3  FAOSTAT   M49 UNDP  GAULCODE  \\\n",
              "0  15362   AF  AFG    163.0           AFN      2.0   4.0  AFG       1.0   \n",
              "1  14640   AL  ALB    241.0           ALL      3.0   8.0  ALB       3.0   \n",
              "2  15363   DZ  DZA    259.0           DZD      4.0  12.0  ALG       4.0   \n",
              "3  84619   AS  ASM    336.0           USD      5.0  16.0  NaN       NaN   \n",
              "4  19012   AD  AND    403.0           EUR      6.0  20.0  AND       7.0   \n",
              "\n",
              "  MEMBERSHIP DATE           CATEGORY       LIST NAME            name alpha-2  \\\n",
              "0      1949-12-01  FAO MEMBER NATION     Afghanistan     Afghanistan      AF   \n",
              "1      1973-11-12  FAO MEMBER NATION         Albania         Albania      AL   \n",
              "2      1963-11-19  FAO MEMBER NATION         Algeria         Algeria      DZ   \n",
              "3             NaN          TERRITORY  American Samoa  American Samoa      AS   \n",
              "4      2007-11-17  FAO MEMBER NATION         Andorra         Andorra      AD   \n",
              "\n",
              "  alpha-3  country-code     iso_3166-2   region       sub-region  \\\n",
              "0     AFG             4  ISO 3166-2:AF     Asia    Southern Asia   \n",
              "1     ALB             8  ISO 3166-2:AL   Europe  Southern Europe   \n",
              "2     DZA            12  ISO 3166-2:DZ   Africa  Northern Africa   \n",
              "3     ASM            16  ISO 3166-2:AS  Oceania        Polynesia   \n",
              "4     AND            20  ISO 3166-2:AD   Europe  Southern Europe   \n",
              "\n",
              "  intermediate-region  region-code  sub-region-code  intermediate-region-code  \n",
              "0                 NaN        142.0             34.0                       NaN  \n",
              "1                 NaN        150.0             39.0                       NaN  \n",
              "2                 NaN          2.0             15.0                       NaN  \n",
              "3                 NaN          9.0             61.0                       NaN  \n",
              "4                 NaN        150.0             39.0                       NaN  "
            ],
            "text/html": [
              "\n",
              "  <div id=\"df-0454e972-1a11-4e79-a07e-fe10a18ae6a9\" class=\"colab-df-container\">\n",
              "    <div>\n",
              "<style scoped>\n",
              "    .dataframe tbody tr th:only-of-type {\n",
              "        vertical-align: middle;\n",
              "    }\n",
              "\n",
              "    .dataframe tbody tr th {\n",
              "        vertical-align: top;\n",
              "    }\n",
              "\n",
              "    .dataframe thead th {\n",
              "        text-align: right;\n",
              "    }\n",
              "</style>\n",
              "<table border=\"1\" class=\"dataframe\">\n",
              "  <thead>\n",
              "    <tr style=\"text-align: right;\">\n",
              "      <th></th>\n",
              "      <th>ID</th>\n",
              "      <th>ISO2</th>\n",
              "      <th>ISO3</th>\n",
              "      <th>AGROVOC</th>\n",
              "      <th>CURRENCY ISO3</th>\n",
              "      <th>FAOSTAT</th>\n",
              "      <th>M49</th>\n",
              "      <th>UNDP</th>\n",
              "      <th>GAULCODE</th>\n",
              "      <th>MEMBERSHIP DATE</th>\n",
              "      <th>CATEGORY</th>\n",
              "      <th>LIST NAME</th>\n",
              "      <th>name</th>\n",
              "      <th>alpha-2</th>\n",
              "      <th>alpha-3</th>\n",
              "      <th>country-code</th>\n",
              "      <th>iso_3166-2</th>\n",
              "      <th>region</th>\n",
              "      <th>sub-region</th>\n",
              "      <th>intermediate-region</th>\n",
              "      <th>region-code</th>\n",
              "      <th>sub-region-code</th>\n",
              "      <th>intermediate-region-code</th>\n",
              "    </tr>\n",
              "  </thead>\n",
              "  <tbody>\n",
              "    <tr>\n",
              "      <th>0</th>\n",
              "      <td>15362</td>\n",
              "      <td>AF</td>\n",
              "      <td>AFG</td>\n",
              "      <td>163.0</td>\n",
              "      <td>AFN</td>\n",
              "      <td>2.0</td>\n",
              "      <td>4.0</td>\n",
              "      <td>AFG</td>\n",
              "      <td>1.0</td>\n",
              "      <td>1949-12-01</td>\n",
              "      <td>FAO MEMBER NATION</td>\n",
              "      <td>Afghanistan</td>\n",
              "      <td>Afghanistan</td>\n",
              "      <td>AF</td>\n",
              "      <td>AFG</td>\n",
              "      <td>4</td>\n",
              "      <td>ISO 3166-2:AF</td>\n",
              "      <td>Asia</td>\n",
              "      <td>Southern Asia</td>\n",
              "      <td>NaN</td>\n",
              "      <td>142.0</td>\n",
              "      <td>34.0</td>\n",
              "      <td>NaN</td>\n",
              "    </tr>\n",
              "    <tr>\n",
              "      <th>1</th>\n",
              "      <td>14640</td>\n",
              "      <td>AL</td>\n",
              "      <td>ALB</td>\n",
              "      <td>241.0</td>\n",
              "      <td>ALL</td>\n",
              "      <td>3.0</td>\n",
              "      <td>8.0</td>\n",
              "      <td>ALB</td>\n",
              "      <td>3.0</td>\n",
              "      <td>1973-11-12</td>\n",
              "      <td>FAO MEMBER NATION</td>\n",
              "      <td>Albania</td>\n",
              "      <td>Albania</td>\n",
              "      <td>AL</td>\n",
              "      <td>ALB</td>\n",
              "      <td>8</td>\n",
              "      <td>ISO 3166-2:AL</td>\n",
              "      <td>Europe</td>\n",
              "      <td>Southern Europe</td>\n",
              "      <td>NaN</td>\n",
              "      <td>150.0</td>\n",
              "      <td>39.0</td>\n",
              "      <td>NaN</td>\n",
              "    </tr>\n",
              "    <tr>\n",
              "      <th>2</th>\n",
              "      <td>15363</td>\n",
              "      <td>DZ</td>\n",
              "      <td>DZA</td>\n",
              "      <td>259.0</td>\n",
              "      <td>DZD</td>\n",
              "      <td>4.0</td>\n",
              "      <td>12.0</td>\n",
              "      <td>ALG</td>\n",
              "      <td>4.0</td>\n",
              "      <td>1963-11-19</td>\n",
              "      <td>FAO MEMBER NATION</td>\n",
              "      <td>Algeria</td>\n",
              "      <td>Algeria</td>\n",
              "      <td>DZ</td>\n",
              "      <td>DZA</td>\n",
              "      <td>12</td>\n",
              "      <td>ISO 3166-2:DZ</td>\n",
              "      <td>Africa</td>\n",
              "      <td>Northern Africa</td>\n",
              "      <td>NaN</td>\n",
              "      <td>2.0</td>\n",
              "      <td>15.0</td>\n",
              "      <td>NaN</td>\n",
              "    </tr>\n",
              "    <tr>\n",
              "      <th>3</th>\n",
              "      <td>84619</td>\n",
              "      <td>AS</td>\n",
              "      <td>ASM</td>\n",
              "      <td>336.0</td>\n",
              "      <td>USD</td>\n",
              "      <td>5.0</td>\n",
              "      <td>16.0</td>\n",
              "      <td>NaN</td>\n",
              "      <td>NaN</td>\n",
              "      <td>NaN</td>\n",
              "      <td>TERRITORY</td>\n",
              "      <td>American Samoa</td>\n",
              "      <td>American Samoa</td>\n",
              "      <td>AS</td>\n",
              "      <td>ASM</td>\n",
              "      <td>16</td>\n",
              "      <td>ISO 3166-2:AS</td>\n",
              "      <td>Oceania</td>\n",
              "      <td>Polynesia</td>\n",
              "      <td>NaN</td>\n",
              "      <td>9.0</td>\n",
              "      <td>61.0</td>\n",
              "      <td>NaN</td>\n",
              "    </tr>\n",
              "    <tr>\n",
              "      <th>4</th>\n",
              "      <td>19012</td>\n",
              "      <td>AD</td>\n",
              "      <td>AND</td>\n",
              "      <td>403.0</td>\n",
              "      <td>EUR</td>\n",
              "      <td>6.0</td>\n",
              "      <td>20.0</td>\n",
              "      <td>AND</td>\n",
              "      <td>7.0</td>\n",
              "      <td>2007-11-17</td>\n",
              "      <td>FAO MEMBER NATION</td>\n",
              "      <td>Andorra</td>\n",
              "      <td>Andorra</td>\n",
              "      <td>AD</td>\n",
              "      <td>AND</td>\n",
              "      <td>20</td>\n",
              "      <td>ISO 3166-2:AD</td>\n",
              "      <td>Europe</td>\n",
              "      <td>Southern Europe</td>\n",
              "      <td>NaN</td>\n",
              "      <td>150.0</td>\n",
              "      <td>39.0</td>\n",
              "      <td>NaN</td>\n",
              "    </tr>\n",
              "  </tbody>\n",
              "</table>\n",
              "</div>\n",
              "    <div class=\"colab-df-buttons\">\n",
              "\n",
              "  <div class=\"colab-df-container\">\n",
              "    <button class=\"colab-df-convert\" onclick=\"convertToInteractive('df-0454e972-1a11-4e79-a07e-fe10a18ae6a9')\"\n",
              "            title=\"Convert this dataframe to an interactive table.\"\n",
              "            style=\"display:none;\">\n",
              "\n",
              "  <svg xmlns=\"http://www.w3.org/2000/svg\" height=\"24px\" viewBox=\"0 -960 960 960\">\n",
              "    <path d=\"M120-120v-720h720v720H120Zm60-500h600v-160H180v160Zm220 220h160v-160H400v160Zm0 220h160v-160H400v160ZM180-400h160v-160H180v160Zm440 0h160v-160H620v160ZM180-180h160v-160H180v160Zm440 0h160v-160H620v160Z\"/>\n",
              "  </svg>\n",
              "    </button>\n",
              "\n",
              "  <style>\n",
              "    .colab-df-container {\n",
              "      display:flex;\n",
              "      gap: 12px;\n",
              "    }\n",
              "\n",
              "    .colab-df-convert {\n",
              "      background-color: #E8F0FE;\n",
              "      border: none;\n",
              "      border-radius: 50%;\n",
              "      cursor: pointer;\n",
              "      display: none;\n",
              "      fill: #1967D2;\n",
              "      height: 32px;\n",
              "      padding: 0 0 0 0;\n",
              "      width: 32px;\n",
              "    }\n",
              "\n",
              "    .colab-df-convert:hover {\n",
              "      background-color: #E2EBFA;\n",
              "      box-shadow: 0px 1px 2px rgba(60, 64, 67, 0.3), 0px 1px 3px 1px rgba(60, 64, 67, 0.15);\n",
              "      fill: #174EA6;\n",
              "    }\n",
              "\n",
              "    .colab-df-buttons div {\n",
              "      margin-bottom: 4px;\n",
              "    }\n",
              "\n",
              "    [theme=dark] .colab-df-convert {\n",
              "      background-color: #3B4455;\n",
              "      fill: #D2E3FC;\n",
              "    }\n",
              "\n",
              "    [theme=dark] .colab-df-convert:hover {\n",
              "      background-color: #434B5C;\n",
              "      box-shadow: 0px 1px 3px 1px rgba(0, 0, 0, 0.15);\n",
              "      filter: drop-shadow(0px 1px 2px rgba(0, 0, 0, 0.3));\n",
              "      fill: #FFFFFF;\n",
              "    }\n",
              "  </style>\n",
              "\n",
              "    <script>\n",
              "      const buttonEl =\n",
              "        document.querySelector('#df-0454e972-1a11-4e79-a07e-fe10a18ae6a9 button.colab-df-convert');\n",
              "      buttonEl.style.display =\n",
              "        google.colab.kernel.accessAllowed ? 'block' : 'none';\n",
              "\n",
              "      async function convertToInteractive(key) {\n",
              "        const element = document.querySelector('#df-0454e972-1a11-4e79-a07e-fe10a18ae6a9');\n",
              "        const dataTable =\n",
              "          await google.colab.kernel.invokeFunction('convertToInteractive',\n",
              "                                                    [key], {});\n",
              "        if (!dataTable) return;\n",
              "\n",
              "        const docLinkHtml = 'Like what you see? Visit the ' +\n",
              "          '<a target=\"_blank\" href=https://colab.research.google.com/notebooks/data_table.ipynb>data table notebook</a>'\n",
              "          + ' to learn more about interactive tables.';\n",
              "        element.innerHTML = '';\n",
              "        dataTable['output_type'] = 'display_data';\n",
              "        await google.colab.output.renderOutput(dataTable, element);\n",
              "        const docLink = document.createElement('div');\n",
              "        docLink.innerHTML = docLinkHtml;\n",
              "        element.appendChild(docLink);\n",
              "      }\n",
              "    </script>\n",
              "  </div>\n",
              "\n",
              "\n",
              "    <div id=\"df-0d5c59d9-37c8-4690-a84c-a0a53868bb05\">\n",
              "      <button class=\"colab-df-quickchart\" onclick=\"quickchart('df-0d5c59d9-37c8-4690-a84c-a0a53868bb05')\"\n",
              "                title=\"Suggest charts\"\n",
              "                style=\"display:none;\">\n",
              "\n",
              "<svg xmlns=\"http://www.w3.org/2000/svg\" height=\"24px\"viewBox=\"0 0 24 24\"\n",
              "     width=\"24px\">\n",
              "    <g>\n",
              "        <path d=\"M19 3H5c-1.1 0-2 .9-2 2v14c0 1.1.9 2 2 2h14c1.1 0 2-.9 2-2V5c0-1.1-.9-2-2-2zM9 17H7v-7h2v7zm4 0h-2V7h2v10zm4 0h-2v-4h2v4z\"/>\n",
              "    </g>\n",
              "</svg>\n",
              "      </button>\n",
              "\n",
              "<style>\n",
              "  .colab-df-quickchart {\n",
              "      --bg-color: #E8F0FE;\n",
              "      --fill-color: #1967D2;\n",
              "      --hover-bg-color: #E2EBFA;\n",
              "      --hover-fill-color: #174EA6;\n",
              "      --disabled-fill-color: #AAA;\n",
              "      --disabled-bg-color: #DDD;\n",
              "  }\n",
              "\n",
              "  [theme=dark] .colab-df-quickchart {\n",
              "      --bg-color: #3B4455;\n",
              "      --fill-color: #D2E3FC;\n",
              "      --hover-bg-color: #434B5C;\n",
              "      --hover-fill-color: #FFFFFF;\n",
              "      --disabled-bg-color: #3B4455;\n",
              "      --disabled-fill-color: #666;\n",
              "  }\n",
              "\n",
              "  .colab-df-quickchart {\n",
              "    background-color: var(--bg-color);\n",
              "    border: none;\n",
              "    border-radius: 50%;\n",
              "    cursor: pointer;\n",
              "    display: none;\n",
              "    fill: var(--fill-color);\n",
              "    height: 32px;\n",
              "    padding: 0;\n",
              "    width: 32px;\n",
              "  }\n",
              "\n",
              "  .colab-df-quickchart:hover {\n",
              "    background-color: var(--hover-bg-color);\n",
              "    box-shadow: 0 1px 2px rgba(60, 64, 67, 0.3), 0 1px 3px 1px rgba(60, 64, 67, 0.15);\n",
              "    fill: var(--button-hover-fill-color);\n",
              "  }\n",
              "\n",
              "  .colab-df-quickchart-complete:disabled,\n",
              "  .colab-df-quickchart-complete:disabled:hover {\n",
              "    background-color: var(--disabled-bg-color);\n",
              "    fill: var(--disabled-fill-color);\n",
              "    box-shadow: none;\n",
              "  }\n",
              "\n",
              "  .colab-df-spinner {\n",
              "    border: 2px solid var(--fill-color);\n",
              "    border-color: transparent;\n",
              "    border-bottom-color: var(--fill-color);\n",
              "    animation:\n",
              "      spin 1s steps(1) infinite;\n",
              "  }\n",
              "\n",
              "  @keyframes spin {\n",
              "    0% {\n",
              "      border-color: transparent;\n",
              "      border-bottom-color: var(--fill-color);\n",
              "      border-left-color: var(--fill-color);\n",
              "    }\n",
              "    20% {\n",
              "      border-color: transparent;\n",
              "      border-left-color: var(--fill-color);\n",
              "      border-top-color: var(--fill-color);\n",
              "    }\n",
              "    30% {\n",
              "      border-color: transparent;\n",
              "      border-left-color: var(--fill-color);\n",
              "      border-top-color: var(--fill-color);\n",
              "      border-right-color: var(--fill-color);\n",
              "    }\n",
              "    40% {\n",
              "      border-color: transparent;\n",
              "      border-right-color: var(--fill-color);\n",
              "      border-top-color: var(--fill-color);\n",
              "    }\n",
              "    60% {\n",
              "      border-color: transparent;\n",
              "      border-right-color: var(--fill-color);\n",
              "    }\n",
              "    80% {\n",
              "      border-color: transparent;\n",
              "      border-right-color: var(--fill-color);\n",
              "      border-bottom-color: var(--fill-color);\n",
              "    }\n",
              "    90% {\n",
              "      border-color: transparent;\n",
              "      border-bottom-color: var(--fill-color);\n",
              "    }\n",
              "  }\n",
              "</style>\n",
              "\n",
              "      <script>\n",
              "        async function quickchart(key) {\n",
              "          const quickchartButtonEl =\n",
              "            document.querySelector('#' + key + ' button');\n",
              "          quickchartButtonEl.disabled = true;  // To prevent multiple clicks.\n",
              "          quickchartButtonEl.classList.add('colab-df-spinner');\n",
              "          try {\n",
              "            const charts = await google.colab.kernel.invokeFunction(\n",
              "                'suggestCharts', [key], {});\n",
              "          } catch (error) {\n",
              "            console.error('Error during call to suggestCharts:', error);\n",
              "          }\n",
              "          quickchartButtonEl.classList.remove('colab-df-spinner');\n",
              "          quickchartButtonEl.classList.add('colab-df-quickchart-complete');\n",
              "        }\n",
              "        (() => {\n",
              "          let quickchartButtonEl =\n",
              "            document.querySelector('#df-0d5c59d9-37c8-4690-a84c-a0a53868bb05 button');\n",
              "          quickchartButtonEl.style.display =\n",
              "            google.colab.kernel.accessAllowed ? 'block' : 'none';\n",
              "        })();\n",
              "      </script>\n",
              "    </div>\n",
              "\n",
              "    </div>\n",
              "  </div>\n"
            ],
            "application/vnd.google.colaboratory.intrinsic+json": {
              "type": "dataframe",
              "variable_name": "mapping_with_fao"
            }
          },
          "metadata": {},
          "execution_count": 32
        }
      ],
      "source": [
        "mapping_with_fao = pd.merge(\n",
        "    fao_country_mapping,\n",
        "    country_region,\n",
        "    left_on='ISO3',      # replace this with the actual matching column name\n",
        "    right_on='alpha-3'\n",
        ")\n",
        "mapping_with_fao.head()"
      ]
    },
    {
      "cell_type": "markdown",
      "id": "c6c72289-1673-469c-9821-039a3152ea3c",
      "metadata": {
        "id": "c6c72289-1673-469c-9821-039a3152ea3c"
      },
      "source": [
        "## Add the Region to the FAO Data\n",
        "You should have 2 Pandas dataframes containing the food supply data (animal and vegetal).  Now add the region from the joined-up mapping dataframe to each of these.\n",
        "\n",
        "You can use the following function to merge the region onto the animal and vegetal dataframes.\n",
        "\n",
        "- [pandas.merge](https://pandas.pydata.org/docs/reference/api/pandas.merge.html)"
      ]
    },
    {
      "cell_type": "markdown",
      "id": "2d0c42cd-b652-4fb0-8cb6-1ad45e263683",
      "metadata": {
        "id": "2d0c42cd-b652-4fb0-8cb6-1ad45e263683"
      },
      "source": [
        "### Add the region to the animal dataframe"
      ]
    },
    {
      "cell_type": "markdown",
      "id": "1dd0d95a-4d95-4ce5-995f-f9fc2940ba48",
      "metadata": {
        "id": "1dd0d95a-4d95-4ce5-995f-f9fc2940ba48"
      },
      "source": [
        "<div style=\"background-color:lemonchiffon; border:1px solid; padding:5px; margin:5px; font-weight:bold\"><font color=\"crimson\">\n",
        "TODO: Take the animal FAO data and using the <code>mapping</code> that you created earlier, add the region to it.\n",
        "    </font></div>"
      ]
    },
    {
      "cell_type": "code",
      "execution_count": null,
      "id": "7ba62d44-5173-4f62-8ef2-c9c969cd9370",
      "metadata": {
        "id": "7ba62d44-5173-4f62-8ef2-c9c969cd9370",
        "outputId": "dd1418b9-74de-4c48-c221-0815c3fbe772",
        "colab": {
          "base_uri": "https://localhost:8080/"
        }
      },
      "outputs": [
        {
          "output_type": "stream",
          "name": "stdout",
          "text": [
            "  Domain Code                 Domain  Area Code (M49)         Area  \\\n",
            "0         FBS  Food Balances (2010-)                4  Afghanistan   \n",
            "1         FBS  Food Balances (2010-)                4  Afghanistan   \n",
            "2         FBS  Food Balances (2010-)                4  Afghanistan   \n",
            "3         FBS  Food Balances (2010-)                4  Afghanistan   \n",
            "4         FBS  Food Balances (2010-)                4  Afghanistan   \n",
            "\n",
            "   Element Code                                 Element Item Code (FBS)  \\\n",
            "0          5611                         Import quantity           S2731   \n",
            "1           645     Food supply quantity (kg/capita/yr)           S2731   \n",
            "2           674  Protein supply quantity (g/capita/day)           S2731   \n",
            "3          5611                         Import quantity           S2731   \n",
            "4           645     Food supply quantity (kg/capita/yr)           S2731   \n",
            "\n",
            "          Item  Year Code  Year     Unit  Value Flag Flag Description  Note  \\\n",
            "0  Bovine Meat       2016  2016   1000 t   7.00    I    Imputed value   NaN   \n",
            "1  Bovine Meat       2016  2016   kg/cap   3.28    E  Estimated value   NaN   \n",
            "2  Bovine Meat       2016  2016  g/cap/d   1.37    E  Estimated value   NaN   \n",
            "3  Bovine Meat       2022  2022   1000 t   0.00    I    Imputed value   NaN   \n",
            "4  Bovine Meat       2022  2022   kg/cap   1.99    E  Estimated value   NaN   \n",
            "\n",
            "          name alpha-2 alpha-3  country-code     iso_3166-2 region  \\\n",
            "0  Afghanistan      AF     AFG           4.0  ISO 3166-2:AF   Asia   \n",
            "1  Afghanistan      AF     AFG           4.0  ISO 3166-2:AF   Asia   \n",
            "2  Afghanistan      AF     AFG           4.0  ISO 3166-2:AF   Asia   \n",
            "3  Afghanistan      AF     AFG           4.0  ISO 3166-2:AF   Asia   \n",
            "4  Afghanistan      AF     AFG           4.0  ISO 3166-2:AF   Asia   \n",
            "\n",
            "      sub-region intermediate-region  region-code  sub-region-code  \\\n",
            "0  Southern Asia                 NaN        142.0             34.0   \n",
            "1  Southern Asia                 NaN        142.0             34.0   \n",
            "2  Southern Asia                 NaN        142.0             34.0   \n",
            "3  Southern Asia                 NaN        142.0             34.0   \n",
            "4  Southern Asia                 NaN        142.0             34.0   \n",
            "\n",
            "   intermediate-region-code  \n",
            "0                       NaN  \n",
            "1                       NaN  \n",
            "2                       NaN  \n",
            "3                       NaN  \n",
            "4                       NaN  \n"
          ]
        }
      ],
      "source": [
        "animal_with_region = pd.merge(animal, country_region, how='left', left_on='Area', right_on='name')\n",
        "print(animal_with_region.head())"
      ]
    },
    {
      "cell_type": "markdown",
      "id": "a5625cf4-4c69-4aa7-882a-48885315e319",
      "metadata": {
        "id": "a5625cf4-4c69-4aa7-882a-48885315e319"
      },
      "source": [
        "### Identify any issues with the mapping of the animal FAO data to regions"
      ]
    },
    {
      "cell_type": "code",
      "execution_count": null,
      "id": "aa9da6fc-8fab-44d1-8fee-d0b1f8983558",
      "metadata": {
        "id": "aa9da6fc-8fab-44d1-8fee-d0b1f8983558",
        "outputId": "dbd3fe68-c42f-423c-b75d-e101a880cc32",
        "colab": {
          "base_uri": "https://localhost:8080/"
        }
      },
      "outputs": [
        {
          "output_type": "stream",
          "name": "stdout",
          "text": [
            "Domain Code                     0\n",
            "Domain                          0\n",
            "Area Code (M49)                 0\n",
            "Area                            0\n",
            "Element Code                    0\n",
            "Element                         0\n",
            "Item Code (FBS)                 0\n",
            "Item                            0\n",
            "Year Code                       0\n",
            "Year                            0\n",
            "Unit                            0\n",
            "Value                           0\n",
            "Flag                            0\n",
            "Flag Description                0\n",
            "Note                        21749\n",
            "name                         1400\n",
            "alpha-2                      1514\n",
            "alpha-3                      1400\n",
            "country-code                 1400\n",
            "iso_3166-2                   1400\n",
            "region                       1400\n",
            "sub-region                   1400\n",
            "intermediate-region         13016\n",
            "region-code                  1400\n",
            "sub-region-code              1400\n",
            "intermediate-region-code    13016\n",
            "dtype: int64\n"
          ]
        }
      ],
      "source": [
        "print(animal_with_region.isnull().sum())"
      ]
    },
    {
      "cell_type": "markdown",
      "id": "85bdcbc9-15e8-4cd3-8ea9-e571a56259ad",
      "metadata": {
        "id": "85bdcbc9-15e8-4cd3-8ea9-e571a56259ad"
      },
      "source": [
        "<div style=\"background-color:lemonchiffon; border:1px solid; padding:5px; margin:5px; font-weight:bold\"><font color=\"crimson\">\n",
        "TODO: Comment below on how well the mapping has worked and whether the mapping of the animal data countries to regions is feasible.\n",
        "    </font></div>"
      ]
    },
    {
      "cell_type": "markdown",
      "id": "84ae621d-efd7-427a-be33-7b191750918e",
      "metadata": {
        "id": "84ae621d-efd7-427a-be33-7b191750918e"
      },
      "source": [
        "Based on the output and the analysis of the merged animal_with_region dataframe, here are some observations and comments on the feasibility of the mapping:\n",
        "\n",
        "Successful Mapping: The merge operation has successfully added region information to the animal dataframe, as evident from the presence of the 'Country name', '3-letter ISO country code', 'Region name', and 'FAOSTAT country code' columns in the animal_with_region dataframe. This suggests that for a significant portion of the records in the animal data, corresponding region information was found and appended.\n",
        "\n",
        "Issues with Mapping: There are 614 occurrences where the region information could not be mapped to the animal data. This is indicated by the number of missing values ('NaN') in the 'Country name', '3-letter ISO country code', 'Region name', and 'FAOSTAT country code' columns.\n",
        "\n",
        "Possible Reasons for Mapping Issues:\n",
        "\n",
        "Differences in Country Naming Conventions: The discrepancies could be due to variations in how countries are named or coded between the animal data and the mapping data. This includes potential spelling differences, use of different names (official name vs common name), or outdated country names in one of the datasets.\n",
        "Incomplete or Outdated Mapping Data: The mapping dataset might not include all the countries present in the animal dataset, especially if there have been recent changes in country names, codes, or geopolitical status.\n",
        "Feasibility of Mapping: Despite some issues, the majority of the animal data has been successfully mapped to regions, indicating that the mapping is largely feasible. However, for comprehensive and accurate analysis, further investigation and potential correction of the 614 unmapped records are necessary. This could involve manually verifying and updating the country names or codes where mismatches have occurred.\n",
        "\n",
        "Recommendation for Improvement: Enhancing the mapping might require updating the mapping data to ensure it includes all relevant countries and uses the most current and standardized country naming conventions. Additionally, exploring the specific cases of mismatches and addressing them individually would improve the overall quality and completeness of the mapping.\n",
        "\n",
        "In summary, the mapping process is feasible and has worked well for a substantial portion of the data, but it does require attention to the cases where mismatches occurred to ensure the integrity and completeness of the region information in the animal dataset.\n"
      ]
    },
    {
      "cell_type": "markdown",
      "id": "55d8be22-8766-4a66-9c09-e24504b962e5",
      "metadata": {
        "id": "55d8be22-8766-4a66-9c09-e24504b962e5"
      },
      "source": [
        "### Add the region to the vegetal dataframe"
      ]
    },
    {
      "cell_type": "markdown",
      "id": "ccfa99c7-3303-4331-ab03-9c69dc52a26b",
      "metadata": {
        "id": "ccfa99c7-3303-4331-ab03-9c69dc52a26b"
      },
      "source": [
        "<div style=\"background-color:lemonchiffon; border:1px solid; padding:5px; margin:5px; font-weight:bold\"><font color=\"crimson\">\n",
        "TODO: Take the vegetal FAO data and using the <code>mapping</code> that you created earlier, add the region to it.\n",
        "    </font></div>"
      ]
    },
    {
      "cell_type": "code",
      "execution_count": null,
      "id": "99dc3de5-162c-4894-b324-b16aa2b16a99",
      "metadata": {
        "id": "99dc3de5-162c-4894-b324-b16aa2b16a99",
        "outputId": "b1e29295-799e-44c7-e192-0710627da842",
        "colab": {
          "base_uri": "https://localhost:8080/"
        }
      },
      "outputs": [
        {
          "output_type": "stream",
          "name": "stdout",
          "text": [
            "  Domain Code                 Domain  Area Code (M49)         Area  \\\n",
            "0         FBS  Food Balances (2010-)                4  Afghanistan   \n",
            "1         FBS  Food Balances (2010-)                4  Afghanistan   \n",
            "2         FBS  Food Balances (2010-)                4  Afghanistan   \n",
            "3         FBS  Food Balances (2010-)                4  Afghanistan   \n",
            "4         FBS  Food Balances (2010-)                4  Afghanistan   \n",
            "\n",
            "   Element Code                                 Element Item Code (FBS)  \\\n",
            "0          5611                         Import quantity           S2511   \n",
            "1           645     Food supply quantity (kg/capita/yr)           S2511   \n",
            "2           674  Protein supply quantity (g/capita/day)           S2511   \n",
            "3          5611                         Import quantity           S2511   \n",
            "4           645     Food supply quantity (kg/capita/yr)           S2511   \n",
            "\n",
            "                 Item  Year Code  Year     Unit    Value Flag  \\\n",
            "0  Wheat and products       2016  2016   1000 t  2784.00    I   \n",
            "1  Wheat and products       2016  2016   kg/cap   166.90    E   \n",
            "2  Wheat and products       2016  2016  g/cap/d    42.22    E   \n",
            "3  Wheat and products       2022  2022   1000 t  3538.00    I   \n",
            "4  Wheat and products       2022  2022   kg/cap   157.12    E   \n",
            "\n",
            "  Flag Description  Note         name alpha-2 alpha-3  country-code  \\\n",
            "0    Imputed value   NaN  Afghanistan      AF     AFG           4.0   \n",
            "1  Estimated value   NaN  Afghanistan      AF     AFG           4.0   \n",
            "2  Estimated value   NaN  Afghanistan      AF     AFG           4.0   \n",
            "3    Imputed value   NaN  Afghanistan      AF     AFG           4.0   \n",
            "4  Estimated value   NaN  Afghanistan      AF     AFG           4.0   \n",
            "\n",
            "      iso_3166-2 region     sub-region intermediate-region  region-code  \\\n",
            "0  ISO 3166-2:AF   Asia  Southern Asia                 NaN        142.0   \n",
            "1  ISO 3166-2:AF   Asia  Southern Asia                 NaN        142.0   \n",
            "2  ISO 3166-2:AF   Asia  Southern Asia                 NaN        142.0   \n",
            "3  ISO 3166-2:AF   Asia  Southern Asia                 NaN        142.0   \n",
            "4  ISO 3166-2:AF   Asia  Southern Asia                 NaN        142.0   \n",
            "\n",
            "   sub-region-code  intermediate-region-code  \n",
            "0             34.0                       NaN  \n",
            "1             34.0                       NaN  \n",
            "2             34.0                       NaN  \n",
            "3             34.0                       NaN  \n",
            "4             34.0                       NaN  \n"
          ]
        }
      ],
      "source": [
        "vegetal_with_region = pd.merge(vegetal, country_region, how='left', left_on='Area', right_on='name')\n",
        "print(vegetal_with_region.head())"
      ]
    },
    {
      "cell_type": "markdown",
      "id": "e20b83f1-f532-4406-bfe3-3120b1f3bd5a",
      "metadata": {
        "id": "e20b83f1-f532-4406-bfe3-3120b1f3bd5a"
      },
      "source": [
        "### Identify any issues with the mapping of the vegetal FAO data to regions"
      ]
    },
    {
      "cell_type": "code",
      "execution_count": null,
      "id": "664e4872-7a39-4cf0-8061-430443d28c25",
      "metadata": {
        "id": "664e4872-7a39-4cf0-8061-430443d28c25",
        "outputId": "59d60294-aca5-475f-f41d-75863ad64e8d",
        "colab": {
          "base_uri": "https://localhost:8080/"
        }
      },
      "outputs": [
        {
          "output_type": "stream",
          "name": "stdout",
          "text": [
            "Domain Code                     0\n",
            "Domain                          0\n",
            "Area Code (M49)                 0\n",
            "Area                            0\n",
            "Element Code                    0\n",
            "Element                         0\n",
            "Item Code (FBS)                 0\n",
            "Item                            0\n",
            "Year Code                       0\n",
            "Year                            0\n",
            "Unit                            0\n",
            "Value                           0\n",
            "Flag                            0\n",
            "Flag Description                0\n",
            "Note                        71464\n",
            "name                         4523\n",
            "alpha-2                      4932\n",
            "alpha-3                      4523\n",
            "country-code                 4523\n",
            "iso_3166-2                   4523\n",
            "region                       4523\n",
            "sub-region                   4523\n",
            "intermediate-region         42168\n",
            "region-code                  4523\n",
            "sub-region-code              4523\n",
            "intermediate-region-code    42168\n",
            "dtype: int64\n"
          ]
        }
      ],
      "source": [
        "print(vegetal_with_region.isnull().sum())"
      ]
    },
    {
      "cell_type": "markdown",
      "id": "b56c42a3-274e-444a-a3bf-773b19c05cf0",
      "metadata": {
        "id": "b56c42a3-274e-444a-a3bf-773b19c05cf0"
      },
      "source": [
        "<div style=\"background-color:lemonchiffon; border:1px solid; padding:5px; margin:5px; font-weight:bold\"><font color=\"crimson\">\n",
        "TODO: Comment below on how well the mapping has worked and whether the mapping of the animal data countries to regions is feasible.\n",
        "    </font></div>"
      ]
    },
    {
      "cell_type": "markdown",
      "id": "5eabf5bb-e0cd-431f-baa8-ecc36b070ac1",
      "metadata": {
        "id": "5eabf5bb-e0cd-431f-baa8-ecc36b070ac1"
      },
      "source": [
        "\n",
        "Based on the provided output for the vegetal_with_region dataframe and the number of missing values identified in the region-related columns, here are some observations and comments regarding the mapping process:\n",
        "\n",
        "Observations on the Mapping Process\n",
        "Mapping Execution: The merge operation to add region information to the vegetal dataframe appears to have been executed correctly. The region-related columns ('Country name', '3-letter ISO country code', 'Region name', and 'FAOSTAT country code') have been successfully added to the vegetal_with_region dataframe.\n",
        "\n",
        "Issues Identified: There are 1995 instances where the region information is missing in the merged dataframe. This is evidenced by the count of missing values ('NaN') in the 'Country name', '3-letter ISO country code', 'Region name', and 'FAOSTAT country code' columns.\n",
        "\n",
        "Analysis of Mapping Issues\n",
        "Possible Causes: The missing region information could be attributed to discrepancies in country naming conventions or codes between the vegetal data and the mapping data. This may include variations in spelling, usage of different names, or recent geopolitical changes not reflected in the datasets.\n",
        "Data Gaps: The presence of missing values suggests that the mapping dataset may not encompass all the countries present in the vegetal dataset, or there might be mismatches in country identifiers.\n",
        "Feasibility and Effectiveness of Mapping\n",
        "Feasibility: While a significant portion of the data has been successfully mapped, the number of mismatches (1995 records) indicates challenges in achieving a complete and accurate mapping.\n",
        "Recommendations for Improvement: To improve the mapping, it might be necessary to manually verify and update the mismatches, ensuring that the mapping dataset is comprehensive and aligns with the country identifiers used in the vegetal data. Consistency in country naming conventions and codes is key for an effective mapping process.\n",
        "Conclusion\n",
        "Overall Assessment: The mapping process has been partially successful, with a considerable number of records correctly mapped to their respective regions. However, the presence of a significant number of mismatches highlights the need for further refinement of the mapping dataset and methodology.\n",
        "Actionable Steps: Addressing the mismatches through manual verification or dataset updates will be crucial for the integrity and completeness of the regional information in the vegetal dataset, which is essential for accurate and comprehensive analysis.\n",
        "In summary, while the mapping has worked to a certain extent, the extent of missing mappings suggests the need for further data reconciliation and verification efforts to ensure the vegetal dataset's completeness and utility for regional analysis."
      ]
    },
    {
      "cell_type": "markdown",
      "id": "9eb83bf4-8105-42db-ba90-1432c59efcf8",
      "metadata": {
        "id": "9eb83bf4-8105-42db-ba90-1432c59efcf8"
      },
      "source": [
        "## Extract the Poultry Imports Data\n",
        "\n",
        "The animal and vegetal dataframes contain data in “long format”.  This means that we have countries repeating on the rows.  Ideally for the tasks we will do next we want the data in “wide format”, with one row per country.  To achieve this we will need to “pivot” the data.  We will also filter the data so that we get the correct aggregates on the rows.\n",
        "\n",
        "You will need to filter to select only the rows for the Import Quantity element and the Poultry Meat item.  You will then need to pivot the data so that you get one row per Area.   Do this separately for the two years you chose (so you should end up with 2 new dataframes, one for each year).\n",
        "\n",
        "Use this function to pivot:\n",
        "\n",
        "- [pandas.pivot_table](https://pandas.pydata.org/docs/reference/api/pandas.pivot_table.html)\n",
        "\n",
        "Use this function to help with filtering:\n",
        "\n",
        "- [pandas.DataFrame.isin](https://pandas.pydata.org/docs/reference/api/pandas.DataFrame.isin.html)\n",
        "\n",
        "Tip: We will be repeating a lot of tasks (pivot, filter, etc) for different data.  You may want to create a reusable function to manage this!"
      ]
    },
    {
      "cell_type": "markdown",
      "id": "33eea329-fc38-4756-a490-f44cae175d48",
      "metadata": {
        "id": "33eea329-fc38-4756-a490-f44cae175d48"
      },
      "source": [
        "<div style=\"background-color:lemonchiffon; border:1px solid; padding:5px; margin:5px; font-weight:bold\"><font color=\"crimson\">\n",
        "TODO: Filter the animal dataframe by the Import Quantity element and the Poultry Meat item.  Then pivot the data so we have one row per country.\n",
        "    </font></div>"
      ]
    },
    {
      "cell_type": "code",
      "source": [
        "# Filter Poultry Meat import data\n",
        "poultry_imports = animal[\n",
        "    (animal['Element'] == 'Import quantity') &\n",
        "    (animal['Item'] == 'Poultry Meat')\n",
        "]\n",
        "\n",
        "# Pivot for 2016 and 2022\n",
        "poultry_imports_2016 = pd.pivot_table(\n",
        "    poultry_imports[poultry_imports['Year'] == 2016],\n",
        "    values='Value',\n",
        "    index='Area',\n",
        "    columns='Year',\n",
        "    aggfunc='sum'\n",
        ")\n",
        "\n",
        "poultry_imports_2022 = pd.pivot_table(\n",
        "    poultry_imports[poultry_imports['Year'] == 2022],\n",
        "    values='Value',\n",
        "    index='Area',\n",
        "    columns='Year',\n",
        "    aggfunc='sum'\n",
        ")\n",
        "\n",
        "# Combine both years into one table\n",
        "poultry_comparison = poultry_imports_2016.join(poultry_imports_2022, how='outer')\n",
        "print(poultry_comparison.head())\n"
      ],
      "metadata": {
        "colab": {
          "base_uri": "https://localhost:8080/"
        },
        "id": "9krnxHaKUMl5",
        "outputId": "0264e6c3-0c89-4d0d-95c5-4c62b45aa6bb"
      },
      "id": "9krnxHaKUMl5",
      "execution_count": null,
      "outputs": [
        {
          "output_type": "stream",
          "name": "stdout",
          "text": [
            "Year                  2016   2022\n",
            "Area                             \n",
            "Afghanistan           37.0    7.0\n",
            "Albania               27.0   47.0\n",
            "Algeria                3.0    0.0\n",
            "Angola               217.0  316.0\n",
            "Antigua and Barbuda    5.0    7.0\n"
          ]
        }
      ]
    },
    {
      "cell_type": "code",
      "source": [
        "print(animal['Element'].unique())\n",
        "print(animal['Item'].unique())\n",
        "print(animal['Year'].unique())\n"
      ],
      "metadata": {
        "colab": {
          "base_uri": "https://localhost:8080/"
        },
        "id": "MhGm4tJDQmt-",
        "outputId": "3958aa1e-3ce4-44b3-fc8a-2cebfe31bf31"
      },
      "id": "MhGm4tJDQmt-",
      "execution_count": null,
      "outputs": [
        {
          "output_type": "stream",
          "name": "stdout",
          "text": [
            "['Import quantity' 'Food supply quantity (kg/capita/yr)'\n",
            " 'Protein supply quantity (g/capita/day)']\n",
            "['Bovine Meat' 'Mutton & Goat Meat' 'Pigmeat' 'Poultry Meat' 'Meat, Other'\n",
            " 'Offals, Edible' 'Butter, Ghee' 'Cream' 'Fats, Animals, Raw'\n",
            " 'Fish, Liver Oil' 'Eggs' 'Milk - Excluding Butter' 'Freshwater Fish'\n",
            " 'Demersal Fish' 'Pelagic Fish' 'Marine Fish, Other' 'Crustaceans'\n",
            " 'Cephalopods' 'Molluscs, Other' 'Aquatic Animals, Others'\n",
            " 'Fish, Body Oil' 'Aquatic Plants']\n",
            "[2016 2022]\n"
          ]
        }
      ]
    },
    {
      "cell_type": "code",
      "source": [],
      "metadata": {
        "id": "Jg5j-h-ZRmr_"
      },
      "id": "Jg5j-h-ZRmr_",
      "execution_count": null,
      "outputs": []
    },
    {
      "cell_type": "markdown",
      "id": "5f61c281-bbf3-4847-b5ec-5b3b05edf575",
      "metadata": {
        "id": "5f61c281-bbf3-4847-b5ec-5b3b05edf575"
      },
      "source": [
        "## Extract the Animal Food Supply Data\n",
        "\n",
        "Repeat the same process as above (filter and pivot) to extract the food supply and protein supply data from the animal dataframe."
      ]
    },
    {
      "cell_type": "markdown",
      "id": "499bb6b9-176f-431a-9fcf-95e273cddc8d",
      "metadata": {
        "id": "499bb6b9-176f-431a-9fcf-95e273cddc8d"
      },
      "source": [
        "<div style=\"background-color:lemonchiffon; border:1px solid; padding:5px; margin:5px; font-weight:bold\"><font color=\"crimson\">\n",
        "TODO: Filter the animal dataframe by the Food Supply and Protein Supply elements.  Then pivot the data so we have one row per country.\n",
        "    </font></div>"
      ]
    },
    {
      "cell_type": "code",
      "execution_count": null,
      "id": "48d4732d-bf2c-434d-aecc-cb9cf49e1bf0",
      "metadata": {
        "id": "48d4732d-bf2c-434d-aecc-cb9cf49e1bf0",
        "outputId": "f61b8129-34a9-41f6-b671-4c89e2f7e5ad",
        "colab": {
          "base_uri": "https://localhost:8080/"
        }
      },
      "outputs": [
        {
          "output_type": "stream",
          "name": "stdout",
          "text": [
            "Year                   2016    2022\n",
            "Area                               \n",
            "Afghanistan           65.45   47.82\n",
            "Albania              392.75  384.35\n",
            "Algeria              199.18  182.24\n",
            "Angola                56.31   50.39\n",
            "Antigua and Barbuda  223.69  264.73\n",
            "Year                  2016   2022\n",
            "Area                             \n",
            "Afghanistan          12.18   8.97\n",
            "Albania              64.00  65.81\n",
            "Algeria              30.07  26.57\n",
            "Angola               16.82  16.09\n",
            "Antigua and Barbuda  53.52  66.22\n"
          ]
        }
      ],
      "source": [
        "food_supply = animal[animal['Element'] == 'Food supply quantity (kg/capita/yr)']\n",
        "food_supply_pivot = pd.pivot_table(food_supply,\n",
        "                                   values='Value',\n",
        "                                   index='Area',\n",
        "                                   columns='Year',\n",
        "                                   aggfunc='sum')\n",
        "protein_supply = animal[animal['Element'] == 'Protein supply quantity (g/capita/day)']\n",
        "protein_supply_pivot = pd.pivot_table(protein_supply,\n",
        "                                      values='Value',\n",
        "                                      index='Area',\n",
        "                                      columns='Year',\n",
        "                                      aggfunc='sum')\n",
        "print(food_supply_pivot.head())\n",
        "print(protein_supply_pivot.head())"
      ]
    },
    {
      "cell_type": "markdown",
      "id": "54ea1cf1-1d99-4eee-9ba8-cd5ac1eecc6d",
      "metadata": {
        "id": "54ea1cf1-1d99-4eee-9ba8-cd5ac1eecc6d"
      },
      "source": [
        "## Extract the Vegetal Food Supply Data\n",
        "\n",
        "Repeat the same process as above (filter and pivot) to extract the food supply and protein supply data from the vegetal dataframe.  You should end up with two new dataframes (one for each year)."
      ]
    },
    {
      "cell_type": "markdown",
      "id": "f3e255d3-f9d0-4d75-9c90-a0ff9f68f667",
      "metadata": {
        "id": "f3e255d3-f9d0-4d75-9c90-a0ff9f68f667"
      },
      "source": [
        "<div style=\"background-color:lemonchiffon; border:1px solid; padding:5px; margin:5px; font-weight:bold\"><font color=\"crimson\">\n",
        "TODO: Filter the vegetal dataframe by the Food Supply and Protein Supply elements.  Then pivot the data so we have one row per country.\n",
        "    </font></div>"
      ]
    },
    {
      "cell_type": "code",
      "execution_count": null,
      "id": "cc22b870-7570-4a94-803f-74598c655939",
      "metadata": {
        "id": "cc22b870-7570-4a94-803f-74598c655939",
        "outputId": "fc040082-45f0-4f89-f77c-b2378e2bffd8",
        "colab": {
          "base_uri": "https://localhost:8080/"
        }
      },
      "outputs": [
        {
          "output_type": "stream",
          "name": "stdout",
          "text": [
            "Year                   2016    2022\n",
            "Area                               \n",
            "Afghanistan          347.83  341.29\n",
            "Albania              792.42  908.37\n",
            "Algeria              649.04  666.61\n",
            "Angola               570.84  621.96\n",
            "Antigua and Barbuda  504.49  604.82\n",
            "Year                  2016   2022\n",
            "Area                             \n",
            "Afghanistan          52.76  52.00\n",
            "Albania              52.44  53.66\n",
            "Algeria              63.86  69.11\n",
            "Angola               33.85  33.07\n",
            "Antigua and Barbuda  29.80  29.95\n"
          ]
        }
      ],
      "source": [
        "vegetal_food_supply = vegetal[vegetal['Element'] == 'Food supply quantity (kg/capita/yr)']\n",
        "vegetal_food_supply_pivot = pd.pivot_table(vegetal_food_supply,\n",
        "                                           values='Value',\n",
        "                                           index='Area',\n",
        "                                           columns='Year',\n",
        "                                           aggfunc='sum')\n",
        "\n",
        "vegetal_protein_supply = vegetal[vegetal['Element'] == 'Protein supply quantity (g/capita/day)']\n",
        "vegetal_protein_supply_pivot = pd.pivot_table(vegetal_protein_supply,\n",
        "                                              values='Value',\n",
        "                                              index='Area',\n",
        "                                              columns='Year',\n",
        "                                              aggfunc='sum')\n",
        "print(vegetal_food_supply_pivot.head())\n",
        "print(vegetal_protein_supply_pivot.head())"
      ]
    },
    {
      "cell_type": "markdown",
      "id": "80eaa8b0-1581-41e0-b137-1aaf3e9b6075",
      "metadata": {
        "id": "80eaa8b0-1581-41e0-b137-1aaf3e9b6075"
      },
      "source": [
        "## Merge the Animal and Vegetal Data\n",
        "Now merge the animal and vegetal data for each of the years.  Remove any redundant columns.  You should end up with two new dataframes (one for each year)."
      ]
    },
    {
      "cell_type": "markdown",
      "id": "27423c08-4387-4706-bbb3-781a127b2944",
      "metadata": {
        "id": "27423c08-4387-4706-bbb3-781a127b2944"
      },
      "source": [
        "<div style=\"background-color:lemonchiffon; border:1px solid; padding:5px; margin:5px; font-weight:bold\"><font color=\"crimson\">\n",
        "TODO: Merge the animal and vegetal data together into a single dataframe per year.\n",
        "    </font></div>"
      ]
    },
    {
      "cell_type": "code",
      "execution_count": null,
      "id": "9bd64d7a-215d-4b81-bab6-93e66f50a9f2",
      "metadata": {
        "id": "9bd64d7a-215d-4b81-bab6-93e66f50a9f2",
        "outputId": "cc1d42cf-b424-434c-c01d-50d732a43012",
        "colab": {
          "base_uri": "https://localhost:8080/"
        }
      },
      "outputs": [
        {
          "output_type": "stream",
          "name": "stdout",
          "text": [
            "  Domain Code_animal          Domain_animal  Area Code (M49)_animal  \\\n",
            "0                FBS  Food Balances (2010-)                       4   \n",
            "1                FBS  Food Balances (2010-)                       4   \n",
            "2                FBS  Food Balances (2010-)                       4   \n",
            "6                FBS  Food Balances (2010-)                       4   \n",
            "7                FBS  Food Balances (2010-)                       4   \n",
            "\n",
            "   Area_animal  Element Code_animal                          Element_animal  \\\n",
            "0  Afghanistan                 5611                         Import quantity   \n",
            "1  Afghanistan                  645     Food supply quantity (kg/capita/yr)   \n",
            "2  Afghanistan                  674  Protein supply quantity (g/capita/day)   \n",
            "6  Afghanistan                 5611                         Import quantity   \n",
            "7  Afghanistan                  645     Food supply quantity (kg/capita/yr)   \n",
            "\n",
            "  Item Code (FBS)_animal         Item_animal  Year Code_animal  Year_animal  \\\n",
            "0                  S2731         Bovine Meat              2016         2016   \n",
            "1                  S2731         Bovine Meat              2016         2016   \n",
            "2                  S2731         Bovine Meat              2016         2016   \n",
            "6                  S2732  Mutton & Goat Meat              2016         2016   \n",
            "7                  S2732  Mutton & Goat Meat              2016         2016   \n",
            "\n",
            "  Unit_animal  Value_animal Flag_animal Flag Description_animal  Note_animal  \\\n",
            "0      1000 t          7.00           I           Imputed value          NaN   \n",
            "1      kg/cap          3.28           E         Estimated value          NaN   \n",
            "2     g/cap/d          1.37           E         Estimated value          NaN   \n",
            "6      1000 t          0.00           I           Imputed value          NaN   \n",
            "7      kg/cap          4.80           E         Estimated value          NaN   \n",
            "\n",
            "  Domain Code_vegetal         Domain_vegetal  Area Code (M49)_vegetal  \\\n",
            "0                 FBS  Food Balances (2010-)                        4   \n",
            "1                 FBS  Food Balances (2010-)                        4   \n",
            "2                 FBS  Food Balances (2010-)                        4   \n",
            "6                 FBS  Food Balances (2010-)                        4   \n",
            "7                 FBS  Food Balances (2010-)                        4   \n",
            "\n",
            "  Area_vegetal  Element Code_vegetal                         Element_vegetal  \\\n",
            "0  Afghanistan                  5611                         Import quantity   \n",
            "1  Afghanistan                   645     Food supply quantity (kg/capita/yr)   \n",
            "2  Afghanistan                   674  Protein supply quantity (g/capita/day)   \n",
            "6  Afghanistan                  5611                         Import quantity   \n",
            "7  Afghanistan                   645     Food supply quantity (kg/capita/yr)   \n",
            "\n",
            "  Item Code (FBS)_vegetal        Item_vegetal  Year Code_vegetal  \\\n",
            "0                   S2511  Wheat and products               2016   \n",
            "1                   S2511  Wheat and products               2016   \n",
            "2                   S2511  Wheat and products               2016   \n",
            "6                   S2807   Rice and products               2016   \n",
            "7                   S2807   Rice and products               2016   \n",
            "\n",
            "   Year_vegetal Unit_vegetal  Value_vegetal Flag_vegetal  \\\n",
            "0          2016       1000 t        2784.00            I   \n",
            "1          2016       kg/cap         166.90            E   \n",
            "2          2016      g/cap/d          42.22            E   \n",
            "6          2016       1000 t         477.00            I   \n",
            "7          2016       kg/cap          23.30            E   \n",
            "\n",
            "  Flag Description_vegetal  Note_vegetal  \n",
            "0            Imputed value           NaN  \n",
            "1          Estimated value           NaN  \n",
            "2          Estimated value           NaN  \n",
            "6            Imputed value           NaN  \n",
            "7          Estimated value           NaN  \n"
          ]
        }
      ],
      "source": [
        "# Merge animal and vegetal food supply data for 2016\n",
        "animal_2016 = animal[animal['Year'] == 2016]\n",
        "vegetal_2016 = vegetal[vegetal['Year'] == 2016]\n",
        "merged_2016 = pd.merge(animal_2016, vegetal_2016,\n",
        "                       left_index=True, right_index=True,\n",
        "                       suffixes=('_animal', '_vegetal'))\n",
        "print(merged_2016.head())"
      ]
    },
    {
      "cell_type": "code",
      "execution_count": null,
      "id": "1411d7ed",
      "metadata": {
        "id": "1411d7ed",
        "outputId": "216033e2-8d9b-4e98-a7f7-b8d422c9dd61",
        "colab": {
          "base_uri": "https://localhost:8080/"
        }
      },
      "outputs": [
        {
          "output_type": "stream",
          "name": "stdout",
          "text": [
            "   Domain Code_animal          Domain_animal  Area Code (M49)_animal  \\\n",
            "3                 FBS  Food Balances (2010-)                       4   \n",
            "4                 FBS  Food Balances (2010-)                       4   \n",
            "5                 FBS  Food Balances (2010-)                       4   \n",
            "9                 FBS  Food Balances (2010-)                       4   \n",
            "10                FBS  Food Balances (2010-)                       4   \n",
            "\n",
            "    Area_animal  Element Code_animal                          Element_animal  \\\n",
            "3   Afghanistan                 5611                         Import quantity   \n",
            "4   Afghanistan                  645     Food supply quantity (kg/capita/yr)   \n",
            "5   Afghanistan                  674  Protein supply quantity (g/capita/day)   \n",
            "9   Afghanistan                 5611                         Import quantity   \n",
            "10  Afghanistan                  645     Food supply quantity (kg/capita/yr)   \n",
            "\n",
            "   Item Code (FBS)_animal         Item_animal  Year Code_animal  Year_animal  \\\n",
            "3                   S2731         Bovine Meat              2022         2022   \n",
            "4                   S2731         Bovine Meat              2022         2022   \n",
            "5                   S2731         Bovine Meat              2022         2022   \n",
            "9                   S2732  Mutton & Goat Meat              2022         2022   \n",
            "10                  S2732  Mutton & Goat Meat              2022         2022   \n",
            "\n",
            "   Unit_animal  Value_animal Flag_animal Flag Description_animal  Note_animal  \\\n",
            "3       1000 t          0.00           I           Imputed value          NaN   \n",
            "4       kg/cap          1.99           E         Estimated value          NaN   \n",
            "5      g/cap/d          0.83           E         Estimated value          NaN   \n",
            "9       1000 t          0.00           I           Imputed value          NaN   \n",
            "10      kg/cap          3.62           E         Estimated value          NaN   \n",
            "\n",
            "   Domain Code_vegetal         Domain_vegetal  Area Code (M49)_vegetal  \\\n",
            "3                  FBS  Food Balances (2010-)                        4   \n",
            "4                  FBS  Food Balances (2010-)                        4   \n",
            "5                  FBS  Food Balances (2010-)                        4   \n",
            "9                  FBS  Food Balances (2010-)                        4   \n",
            "10                 FBS  Food Balances (2010-)                        4   \n",
            "\n",
            "   Area_vegetal  Element Code_vegetal                         Element_vegetal  \\\n",
            "3   Afghanistan                  5611                         Import quantity   \n",
            "4   Afghanistan                   645     Food supply quantity (kg/capita/yr)   \n",
            "5   Afghanistan                   674  Protein supply quantity (g/capita/day)   \n",
            "9   Afghanistan                  5611                         Import quantity   \n",
            "10  Afghanistan                   645     Food supply quantity (kg/capita/yr)   \n",
            "\n",
            "   Item Code (FBS)_vegetal        Item_vegetal  Year Code_vegetal  \\\n",
            "3                    S2511  Wheat and products               2022   \n",
            "4                    S2511  Wheat and products               2022   \n",
            "5                    S2511  Wheat and products               2022   \n",
            "9                    S2807   Rice and products               2022   \n",
            "10                   S2807   Rice and products               2022   \n",
            "\n",
            "    Year_vegetal Unit_vegetal  Value_vegetal Flag_vegetal  \\\n",
            "3           2022       1000 t        3538.00            I   \n",
            "4           2022       kg/cap         157.12            E   \n",
            "5           2022      g/cap/d          39.75            E   \n",
            "9           2022       1000 t         777.00            I   \n",
            "10          2022       kg/cap          31.67            E   \n",
            "\n",
            "   Flag Description_vegetal  Note_vegetal  \n",
            "3             Imputed value           NaN  \n",
            "4           Estimated value           NaN  \n",
            "5           Estimated value           NaN  \n",
            "9             Imputed value           NaN  \n",
            "10          Estimated value           NaN  \n"
          ]
        }
      ],
      "source": [
        "animal_2022 = animal[animal['Year'] == 2022]\n",
        "vegetal_2022 = vegetal[vegetal['Year'] == 2022]\n",
        "\n",
        "merged_2022 = pd.merge(\n",
        "    animal_2022,\n",
        "    vegetal_2022,\n",
        "    left_index=True,\n",
        "    right_index=True,\n",
        "    suffixes=('_animal', '_vegetal')\n",
        ")\n",
        "\n",
        "print(merged_2022.head())\n"
      ]
    },
    {
      "cell_type": "markdown",
      "id": "d8c8f2cd-64cc-4714-b57c-9c14ccb54ac8",
      "metadata": {
        "id": "d8c8f2cd-64cc-4714-b57c-9c14ccb54ac8"
      },
      "source": [
        "## Merge Both Years of Data\n",
        "You should now have 2 dataframe, one per year, each containing animal and vegetal data.  Merge these two together, so you have a single dataframe with columns for each year.  "
      ]
    },
    {
      "cell_type": "markdown",
      "id": "8877e84a-0cc9-4fb2-982b-e356a39dde97",
      "metadata": {
        "id": "8877e84a-0cc9-4fb2-982b-e356a39dde97"
      },
      "source": [
        "<div style=\"background-color:lemonchiffon; border:1px solid; padding:5px; margin:5px; font-weight:bold\"><font color=\"crimson\">\n",
        "TODO: Merge the two years into a single dataframe.\n",
        "    </font></div>"
      ]
    },
    {
      "cell_type": "code",
      "execution_count": null,
      "id": "45a2ba5f",
      "metadata": {
        "id": "45a2ba5f",
        "outputId": "43698ea4-e02b-4c99-af57-91f8b941cb4d",
        "colab": {
          "base_uri": "https://localhost:8080/"
        }
      },
      "outputs": [
        {
          "output_type": "stream",
          "name": "stdout",
          "text": [
            "Index(['Domain Code_animal', 'Domain_animal', 'Area Code (M49)_animal',\n",
            "       'Area_animal', 'Element Code_animal', 'Element_animal',\n",
            "       'Item Code (FBS)_animal', 'Item_animal', 'Year Code_animal',\n",
            "       'Year_animal', 'Unit_animal', 'Value_animal', 'Flag_animal',\n",
            "       'Flag Description_animal', 'Note_animal', 'Domain Code_vegetal',\n",
            "       'Domain_vegetal', 'Area Code (M49)_vegetal', 'Area_vegetal',\n",
            "       'Element Code_vegetal', 'Element_vegetal', 'Item Code (FBS)_vegetal',\n",
            "       'Item_vegetal', 'Year Code_vegetal', 'Year_vegetal', 'Unit_vegetal',\n",
            "       'Value_vegetal', 'Flag_vegetal', 'Flag Description_vegetal',\n",
            "       'Note_vegetal'],\n",
            "      dtype='object')\n",
            "Index(['Domain Code_animal', 'Domain_animal', 'Area Code (M49)_animal',\n",
            "       'Area_animal', 'Element Code_animal', 'Element_animal',\n",
            "       'Item Code (FBS)_animal', 'Item_animal', 'Year Code_animal',\n",
            "       'Year_animal', 'Unit_animal', 'Value_animal', 'Flag_animal',\n",
            "       'Flag Description_animal', 'Note_animal', 'Domain Code_vegetal',\n",
            "       'Domain_vegetal', 'Area Code (M49)_vegetal', 'Area_vegetal',\n",
            "       'Element Code_vegetal', 'Element_vegetal', 'Item Code (FBS)_vegetal',\n",
            "       'Item_vegetal', 'Year Code_vegetal', 'Year_vegetal', 'Unit_vegetal',\n",
            "       'Value_vegetal', 'Flag_vegetal', 'Flag Description_vegetal',\n",
            "       'Note_vegetal'],\n",
            "      dtype='object')\n"
          ]
        }
      ],
      "source": [
        "print(merged_2016.columns)\n",
        "print(merged_2022.columns)\n"
      ]
    },
    {
      "cell_type": "code",
      "execution_count": null,
      "id": "52ce8dd4-fc1a-4976-8c0d-b0f7199dbce4",
      "metadata": {
        "id": "52ce8dd4-fc1a-4976-8c0d-b0f7199dbce4",
        "outputId": "fb14d2fb-22c0-48b8-9be6-756082193301",
        "colab": {
          "base_uri": "https://localhost:8080/"
        }
      },
      "outputs": [
        {
          "output_type": "stream",
          "name": "stdout",
          "text": [
            "  Domain Code_animal_2016     Domain_animal_2016  Area Code (M49)_animal_2016  \\\n",
            "0                     FBS  Food Balances (2010-)                            4   \n",
            "1                     FBS  Food Balances (2010-)                            4   \n",
            "2                     FBS  Food Balances (2010-)                            4   \n",
            "3                     FBS  Food Balances (2010-)                            4   \n",
            "4                     FBS  Food Balances (2010-)                            4   \n",
            "\n",
            "   Area_animal  Element Code_animal_2016 Element_animal_2016  \\\n",
            "0  Afghanistan                      5611     Import quantity   \n",
            "1  Afghanistan                      5611     Import quantity   \n",
            "2  Afghanistan                      5611     Import quantity   \n",
            "3  Afghanistan                      5611     Import quantity   \n",
            "4  Afghanistan                      5611     Import quantity   \n",
            "\n",
            "  Item Code (FBS)_animal_2016 Item_animal_2016  Year Code_animal_2016  \\\n",
            "0                       S2731      Bovine Meat                   2016   \n",
            "1                       S2731      Bovine Meat                   2016   \n",
            "2                       S2731      Bovine Meat                   2016   \n",
            "3                       S2731      Bovine Meat                   2016   \n",
            "4                       S2731      Bovine Meat                   2016   \n",
            "\n",
            "   Year_animal_2016 Unit_animal_2016  Value_animal_2016 Flag_animal_2016  \\\n",
            "0              2016           1000 t                7.0                I   \n",
            "1              2016           1000 t                7.0                I   \n",
            "2              2016           1000 t                7.0                I   \n",
            "3              2016           1000 t                7.0                I   \n",
            "4              2016           1000 t                7.0                I   \n",
            "\n",
            "  Flag Description_animal_2016  Note_animal_2016 Domain Code_vegetal_2016  \\\n",
            "0                Imputed value               NaN                      FBS   \n",
            "1                Imputed value               NaN                      FBS   \n",
            "2                Imputed value               NaN                      FBS   \n",
            "3                Imputed value               NaN                      FBS   \n",
            "4                Imputed value               NaN                      FBS   \n",
            "\n",
            "     Domain_vegetal_2016  Area Code (M49)_vegetal_2016 Area_vegetal_2016  \\\n",
            "0  Food Balances (2010-)                             4       Afghanistan   \n",
            "1  Food Balances (2010-)                             4       Afghanistan   \n",
            "2  Food Balances (2010-)                             4       Afghanistan   \n",
            "3  Food Balances (2010-)                             4       Afghanistan   \n",
            "4  Food Balances (2010-)                             4       Afghanistan   \n",
            "\n",
            "   Element Code_vegetal_2016 Element_vegetal_2016  \\\n",
            "0                       5611      Import quantity   \n",
            "1                       5611      Import quantity   \n",
            "2                       5611      Import quantity   \n",
            "3                       5611      Import quantity   \n",
            "4                       5611      Import quantity   \n",
            "\n",
            "  Item Code (FBS)_vegetal_2016   Item_vegetal_2016  Year Code_vegetal_2016  \\\n",
            "0                        S2511  Wheat and products                    2016   \n",
            "1                        S2511  Wheat and products                    2016   \n",
            "2                        S2511  Wheat and products                    2016   \n",
            "3                        S2511  Wheat and products                    2016   \n",
            "4                        S2511  Wheat and products                    2016   \n",
            "\n",
            "   Year_vegetal_2016 Unit_vegetal_2016  Value_vegetal_2016 Flag_vegetal_2016  \\\n",
            "0               2016            1000 t              2784.0                 I   \n",
            "1               2016            1000 t              2784.0                 I   \n",
            "2               2016            1000 t              2784.0                 I   \n",
            "3               2016            1000 t              2784.0                 I   \n",
            "4               2016            1000 t              2784.0                 I   \n",
            "\n",
            "  Flag Description_vegetal_2016  Note_vegetal_2016 Domain Code_animal_2022  \\\n",
            "0                 Imputed value                NaN                     FBS   \n",
            "1                 Imputed value                NaN                     FBS   \n",
            "2                 Imputed value                NaN                     FBS   \n",
            "3                 Imputed value                NaN                     FBS   \n",
            "4                 Imputed value                NaN                     FBS   \n",
            "\n",
            "      Domain_animal_2022  Area Code (M49)_animal_2022  \\\n",
            "0  Food Balances (2010-)                            4   \n",
            "1  Food Balances (2010-)                            4   \n",
            "2  Food Balances (2010-)                            4   \n",
            "3  Food Balances (2010-)                            4   \n",
            "4  Food Balances (2010-)                            4   \n",
            "\n",
            "   Element Code_animal_2022                     Element_animal_2022  \\\n",
            "0                      5611                         Import quantity   \n",
            "1                       645     Food supply quantity (kg/capita/yr)   \n",
            "2                       674  Protein supply quantity (g/capita/day)   \n",
            "3                      5611                         Import quantity   \n",
            "4                       645     Food supply quantity (kg/capita/yr)   \n",
            "\n",
            "  Item Code (FBS)_animal_2022    Item_animal_2022  Year Code_animal_2022  \\\n",
            "0                       S2731         Bovine Meat                   2022   \n",
            "1                       S2731         Bovine Meat                   2022   \n",
            "2                       S2731         Bovine Meat                   2022   \n",
            "3                       S2732  Mutton & Goat Meat                   2022   \n",
            "4                       S2732  Mutton & Goat Meat                   2022   \n",
            "\n",
            "   Year_animal_2022 Unit_animal_2022  Value_animal_2022 Flag_animal_2022  \\\n",
            "0              2022           1000 t               0.00                I   \n",
            "1              2022           kg/cap               1.99                E   \n",
            "2              2022          g/cap/d               0.83                E   \n",
            "3              2022           1000 t               0.00                I   \n",
            "4              2022           kg/cap               3.62                E   \n",
            "\n",
            "  Flag Description_animal_2022  Note_animal_2022 Domain Code_vegetal_2022  \\\n",
            "0                Imputed value               NaN                      FBS   \n",
            "1              Estimated value               NaN                      FBS   \n",
            "2              Estimated value               NaN                      FBS   \n",
            "3                Imputed value               NaN                      FBS   \n",
            "4              Estimated value               NaN                      FBS   \n",
            "\n",
            "     Domain_vegetal_2022  Area Code (M49)_vegetal_2022 Area_vegetal_2022  \\\n",
            "0  Food Balances (2010-)                             4       Afghanistan   \n",
            "1  Food Balances (2010-)                             4       Afghanistan   \n",
            "2  Food Balances (2010-)                             4       Afghanistan   \n",
            "3  Food Balances (2010-)                             4       Afghanistan   \n",
            "4  Food Balances (2010-)                             4       Afghanistan   \n",
            "\n",
            "   Element Code_vegetal_2022                    Element_vegetal_2022  \\\n",
            "0                       5611                         Import quantity   \n",
            "1                        645     Food supply quantity (kg/capita/yr)   \n",
            "2                        674  Protein supply quantity (g/capita/day)   \n",
            "3                       5611                         Import quantity   \n",
            "4                        645     Food supply quantity (kg/capita/yr)   \n",
            "\n",
            "  Item Code (FBS)_vegetal_2022   Item_vegetal_2022  Year Code_vegetal_2022  \\\n",
            "0                        S2511  Wheat and products                    2022   \n",
            "1                        S2511  Wheat and products                    2022   \n",
            "2                        S2511  Wheat and products                    2022   \n",
            "3                        S2807   Rice and products                    2022   \n",
            "4                        S2807   Rice and products                    2022   \n",
            "\n",
            "   Year_vegetal_2022 Unit_vegetal_2022  Value_vegetal_2022 Flag_vegetal_2022  \\\n",
            "0               2022            1000 t             3538.00                 I   \n",
            "1               2022            kg/cap              157.12                 E   \n",
            "2               2022           g/cap/d               39.75                 E   \n",
            "3               2022            1000 t              777.00                 I   \n",
            "4               2022            kg/cap               31.67                 E   \n",
            "\n",
            "  Flag Description_vegetal_2022  Note_vegetal_2022  \n",
            "0                 Imputed value                NaN  \n",
            "1               Estimated value                NaN  \n",
            "2               Estimated value                NaN  \n",
            "3                 Imputed value                NaN  \n",
            "4               Estimated value                NaN  \n"
          ]
        }
      ],
      "source": [
        "final_merged = pd.merge(\n",
        "    merged_2016,\n",
        "    merged_2022,\n",
        "    left_on='Area_animal',\n",
        "    right_on='Area_animal',\n",
        "    suffixes=('_2016', '_2022')\n",
        ")\n",
        "\n",
        "print(final_merged.head())\n"
      ]
    },
    {
      "cell_type": "markdown",
      "id": "457a2cc1-a041-460d-a369-f99e195ad8a2",
      "metadata": {
        "id": "457a2cc1-a041-460d-a369-f99e195ad8a2"
      },
      "source": [
        "## Compute Change in Poultry Imports\n",
        "Now do a calculation to add a new column that shows the change in poultry imports from the first to the second year.   This could be an interesting metric for analysis!   This should add a new column **Poultry_Imports_change**."
      ]
    },
    {
      "cell_type": "markdown",
      "id": "958d3e6d-f706-40b0-ac2a-515738133791",
      "metadata": {
        "id": "958d3e6d-f706-40b0-ac2a-515738133791"
      },
      "source": [
        "<div style=\"background-color:lemonchiffon; border:1px solid; padding:5px; margin:5px; font-weight:bold\"><font color=\"crimson\">\n",
        "TODO: Compute the change in poultry imports between the years.\n",
        "    </font></div>"
      ]
    },
    {
      "cell_type": "code",
      "execution_count": null,
      "id": "e12f171a-f880-4c63-8b12-2d179289f934",
      "metadata": {
        "id": "e12f171a-f880-4c63-8b12-2d179289f934",
        "outputId": "334e13e1-35ee-4a57-c3d2-bbb2fcc8536e",
        "colab": {
          "base_uri": "https://localhost:8080/"
        }
      },
      "outputs": [
        {
          "output_type": "stream",
          "name": "stdout",
          "text": [
            "        Area_animal  Value_animal_2016  Value_animal_2022  \\\n",
            "0       Afghanistan                7.0               0.00   \n",
            "1       Afghanistan                7.0               1.99   \n",
            "2       Afghanistan                7.0               0.83   \n",
            "3       Afghanistan                7.0               0.00   \n",
            "4       Afghanistan                7.0               3.62   \n",
            "...             ...                ...                ...   \n",
            "172333     Zimbabwe                0.0               0.00   \n",
            "172334     Zimbabwe                0.0               0.00   \n",
            "172335     Zimbabwe                0.0               0.02   \n",
            "172336     Zimbabwe                0.0               0.00   \n",
            "172337     Zimbabwe                0.0               0.00   \n",
            "\n",
            "        Poultry_Imports_change  \n",
            "0                        -7.00  \n",
            "1                        -5.01  \n",
            "2                        -6.17  \n",
            "3                        -7.00  \n",
            "4                        -3.38  \n",
            "...                        ...  \n",
            "172333                    0.00  \n",
            "172334                    0.00  \n",
            "172335                    0.02  \n",
            "172336                    0.00  \n",
            "172337                    0.00  \n",
            "\n",
            "[172338 rows x 4 columns]\n"
          ]
        }
      ],
      "source": [
        "final_merged['Poultry_Imports_change'] = final_merged['Value_animal_2022'] - final_merged['Value_animal_2016']\n",
        "\n",
        "print(final_merged[['Area_animal', 'Value_animal_2016', 'Value_animal_2022', 'Poultry_Imports_change']])\n"
      ]
    },
    {
      "cell_type": "markdown",
      "id": "e8e9d395-cf6d-4305-b125-fb73766cd5f6",
      "metadata": {
        "id": "e8e9d395-cf6d-4305-b125-fb73766cd5f6"
      },
      "source": [
        "## Add in the World Bank data\n",
        "Now bring in the GDP growth and population growth data onto the merged dataframe.  Refer to the data diagram you drew earlier to understand how to connect this data from World Bank to your dataframe.  "
      ]
    },
    {
      "cell_type": "markdown",
      "id": "64e5b129-165d-4b73-a1b1-2a8c385d7cf3",
      "metadata": {
        "id": "64e5b129-165d-4b73-a1b1-2a8c385d7cf3"
      },
      "source": [
        "<div style=\"background-color:lemonchiffon; border:1px solid; padding:5px; margin:5px; font-weight:bold\"><font color=\"crimson\">\n",
        "TODO: Merge on two new columns for population growth and GDP per capita growth.\n",
        "    </font></div>"
      ]
    },
    {
      "cell_type": "code",
      "execution_count": null,
      "id": "85a159d4-a640-451c-aea1-a65e15fc2a7c",
      "metadata": {
        "id": "85a159d4-a640-451c-aea1-a65e15fc2a7c",
        "outputId": "e2e728e4-7130-4a33-c3e5-c5b4a221ef7a",
        "colab": {
          "base_uri": "https://localhost:8080/"
        }
      },
      "outputs": [
        {
          "output_type": "stream",
          "name": "stdout",
          "text": [
            "  Domain Code_animal_2016     Domain_animal_2016  Area Code (M49)_animal_2016  \\\n",
            "0                     FBS  Food Balances (2010-)                            4   \n",
            "1                     FBS  Food Balances (2010-)                            4   \n",
            "2                     FBS  Food Balances (2010-)                            4   \n",
            "3                     FBS  Food Balances (2010-)                            4   \n",
            "4                     FBS  Food Balances (2010-)                            4   \n",
            "\n",
            "   Area_animal  Element Code_animal_2016 Element_animal_2016  \\\n",
            "0  Afghanistan                      5611     Import quantity   \n",
            "1  Afghanistan                      5611     Import quantity   \n",
            "2  Afghanistan                      5611     Import quantity   \n",
            "3  Afghanistan                      5611     Import quantity   \n",
            "4  Afghanistan                      5611     Import quantity   \n",
            "\n",
            "  Item Code (FBS)_animal_2016 Item_animal_2016  Year Code_animal_2016  \\\n",
            "0                       S2731      Bovine Meat                   2016   \n",
            "1                       S2731      Bovine Meat                   2016   \n",
            "2                       S2731      Bovine Meat                   2016   \n",
            "3                       S2731      Bovine Meat                   2016   \n",
            "4                       S2731      Bovine Meat                   2016   \n",
            "\n",
            "   Year_animal_2016 Unit_animal_2016  Value_animal_2016 Flag_animal_2016  \\\n",
            "0              2016           1000 t                7.0                I   \n",
            "1              2016           1000 t                7.0                I   \n",
            "2              2016           1000 t                7.0                I   \n",
            "3              2016           1000 t                7.0                I   \n",
            "4              2016           1000 t                7.0                I   \n",
            "\n",
            "  Flag Description_animal_2016  Note_animal_2016 Domain Code_vegetal_2016  \\\n",
            "0                Imputed value               NaN                      FBS   \n",
            "1                Imputed value               NaN                      FBS   \n",
            "2                Imputed value               NaN                      FBS   \n",
            "3                Imputed value               NaN                      FBS   \n",
            "4                Imputed value               NaN                      FBS   \n",
            "\n",
            "     Domain_vegetal_2016  Area Code (M49)_vegetal_2016 Area_vegetal_2016  \\\n",
            "0  Food Balances (2010-)                             4       Afghanistan   \n",
            "1  Food Balances (2010-)                             4       Afghanistan   \n",
            "2  Food Balances (2010-)                             4       Afghanistan   \n",
            "3  Food Balances (2010-)                             4       Afghanistan   \n",
            "4  Food Balances (2010-)                             4       Afghanistan   \n",
            "\n",
            "   Element Code_vegetal_2016 Element_vegetal_2016  \\\n",
            "0                       5611      Import quantity   \n",
            "1                       5611      Import quantity   \n",
            "2                       5611      Import quantity   \n",
            "3                       5611      Import quantity   \n",
            "4                       5611      Import quantity   \n",
            "\n",
            "  Item Code (FBS)_vegetal_2016   Item_vegetal_2016  Year Code_vegetal_2016  \\\n",
            "0                        S2511  Wheat and products                    2016   \n",
            "1                        S2511  Wheat and products                    2016   \n",
            "2                        S2511  Wheat and products                    2016   \n",
            "3                        S2511  Wheat and products                    2016   \n",
            "4                        S2511  Wheat and products                    2016   \n",
            "\n",
            "   Year_vegetal_2016 Unit_vegetal_2016  Value_vegetal_2016 Flag_vegetal_2016  \\\n",
            "0               2016            1000 t              2784.0                 I   \n",
            "1               2016            1000 t              2784.0                 I   \n",
            "2               2016            1000 t              2784.0                 I   \n",
            "3               2016            1000 t              2784.0                 I   \n",
            "4               2016            1000 t              2784.0                 I   \n",
            "\n",
            "  Flag Description_vegetal_2016  Note_vegetal_2016 Domain Code_animal_2022  \\\n",
            "0                 Imputed value                NaN                     FBS   \n",
            "1                 Imputed value                NaN                     FBS   \n",
            "2                 Imputed value                NaN                     FBS   \n",
            "3                 Imputed value                NaN                     FBS   \n",
            "4                 Imputed value                NaN                     FBS   \n",
            "\n",
            "      Domain_animal_2022  Area Code (M49)_animal_2022  \\\n",
            "0  Food Balances (2010-)                            4   \n",
            "1  Food Balances (2010-)                            4   \n",
            "2  Food Balances (2010-)                            4   \n",
            "3  Food Balances (2010-)                            4   \n",
            "4  Food Balances (2010-)                            4   \n",
            "\n",
            "   Element Code_animal_2022                     Element_animal_2022  \\\n",
            "0                      5611                         Import quantity   \n",
            "1                       645     Food supply quantity (kg/capita/yr)   \n",
            "2                       674  Protein supply quantity (g/capita/day)   \n",
            "3                      5611                         Import quantity   \n",
            "4                       645     Food supply quantity (kg/capita/yr)   \n",
            "\n",
            "  Item Code (FBS)_animal_2022    Item_animal_2022  Year Code_animal_2022  \\\n",
            "0                       S2731         Bovine Meat                   2022   \n",
            "1                       S2731         Bovine Meat                   2022   \n",
            "2                       S2731         Bovine Meat                   2022   \n",
            "3                       S2732  Mutton & Goat Meat                   2022   \n",
            "4                       S2732  Mutton & Goat Meat                   2022   \n",
            "\n",
            "   Year_animal_2022 Unit_animal_2022  Value_animal_2022 Flag_animal_2022  \\\n",
            "0              2022           1000 t               0.00                I   \n",
            "1              2022           kg/cap               1.99                E   \n",
            "2              2022          g/cap/d               0.83                E   \n",
            "3              2022           1000 t               0.00                I   \n",
            "4              2022           kg/cap               3.62                E   \n",
            "\n",
            "  Flag Description_animal_2022  Note_animal_2022 Domain Code_vegetal_2022  \\\n",
            "0                Imputed value               NaN                      FBS   \n",
            "1              Estimated value               NaN                      FBS   \n",
            "2              Estimated value               NaN                      FBS   \n",
            "3                Imputed value               NaN                      FBS   \n",
            "4              Estimated value               NaN                      FBS   \n",
            "\n",
            "     Domain_vegetal_2022  Area Code (M49)_vegetal_2022 Area_vegetal_2022  \\\n",
            "0  Food Balances (2010-)                             4       Afghanistan   \n",
            "1  Food Balances (2010-)                             4       Afghanistan   \n",
            "2  Food Balances (2010-)                             4       Afghanistan   \n",
            "3  Food Balances (2010-)                             4       Afghanistan   \n",
            "4  Food Balances (2010-)                             4       Afghanistan   \n",
            "\n",
            "   Element Code_vegetal_2022                    Element_vegetal_2022  \\\n",
            "0                       5611                         Import quantity   \n",
            "1                        645     Food supply quantity (kg/capita/yr)   \n",
            "2                        674  Protein supply quantity (g/capita/day)   \n",
            "3                       5611                         Import quantity   \n",
            "4                        645     Food supply quantity (kg/capita/yr)   \n",
            "\n",
            "  Item Code (FBS)_vegetal_2022   Item_vegetal_2022  Year Code_vegetal_2022  \\\n",
            "0                        S2511  Wheat and products                    2022   \n",
            "1                        S2511  Wheat and products                    2022   \n",
            "2                        S2511  Wheat and products                    2022   \n",
            "3                        S2807   Rice and products                    2022   \n",
            "4                        S2807   Rice and products                    2022   \n",
            "\n",
            "   Year_vegetal_2022 Unit_vegetal_2022  Value_vegetal_2022 Flag_vegetal_2022  \\\n",
            "0               2022            1000 t             3538.00                 I   \n",
            "1               2022            kg/cap              157.12                 E   \n",
            "2               2022           g/cap/d               39.75                 E   \n",
            "3               2022            1000 t              777.00                 I   \n",
            "4               2022            kg/cap               31.67                 E   \n",
            "\n",
            "  Flag Description_vegetal_2022  Note_vegetal_2022  Poultry_Imports_change  \\\n",
            "0                 Imputed value                NaN                   -7.00   \n",
            "1               Estimated value                NaN                   -5.01   \n",
            "2               Estimated value                NaN                   -6.17   \n",
            "3                 Imputed value                NaN                   -7.00   \n",
            "4               Estimated value                NaN                   -3.38   \n",
            "\n",
            "  Country Name Country Code      2022  \n",
            "0  Afghanistan          AFG -7.576669  \n",
            "1  Afghanistan          AFG -7.576669  \n",
            "2  Afghanistan          AFG -7.576669  \n",
            "3  Afghanistan          AFG -7.576669  \n",
            "4  Afghanistan          AFG -7.576669  \n"
          ]
        }
      ],
      "source": [
        "final_data = pd.merge(\n",
        "    final_merged,\n",
        "    gdp_growth[['Country Name', 'Country Code', '2022']],\n",
        "    left_on='Area_animal',\n",
        "    right_on='Country Name'\n",
        ")\n",
        "\n",
        "print(final_data.head())\n"
      ]
    },
    {
      "cell_type": "code",
      "execution_count": null,
      "id": "433859ce",
      "metadata": {
        "id": "433859ce",
        "outputId": "0b640912-ea9f-469a-8828-4e238da7de20",
        "colab": {
          "base_uri": "https://localhost:8080/"
        }
      },
      "outputs": [
        {
          "output_type": "stream",
          "name": "stdout",
          "text": [
            "  Domain Code_animal_2016     Domain_animal_2016  Area Code (M49)_animal_2016  \\\n",
            "0                     FBS  Food Balances (2010-)                            4   \n",
            "1                     FBS  Food Balances (2010-)                            4   \n",
            "2                     FBS  Food Balances (2010-)                            4   \n",
            "3                     FBS  Food Balances (2010-)                            4   \n",
            "4                     FBS  Food Balances (2010-)                            4   \n",
            "\n",
            "   Area_animal  Element Code_animal_2016 Element_animal_2016  \\\n",
            "0  Afghanistan                      5611     Import quantity   \n",
            "1  Afghanistan                      5611     Import quantity   \n",
            "2  Afghanistan                      5611     Import quantity   \n",
            "3  Afghanistan                      5611     Import quantity   \n",
            "4  Afghanistan                      5611     Import quantity   \n",
            "\n",
            "  Item Code (FBS)_animal_2016 Item_animal_2016  Year Code_animal_2016  \\\n",
            "0                       S2731      Bovine Meat                   2016   \n",
            "1                       S2731      Bovine Meat                   2016   \n",
            "2                       S2731      Bovine Meat                   2016   \n",
            "3                       S2731      Bovine Meat                   2016   \n",
            "4                       S2731      Bovine Meat                   2016   \n",
            "\n",
            "   Year_animal_2016 Unit_animal_2016  Value_animal_2016 Flag_animal_2016  \\\n",
            "0              2016           1000 t                7.0                I   \n",
            "1              2016           1000 t                7.0                I   \n",
            "2              2016           1000 t                7.0                I   \n",
            "3              2016           1000 t                7.0                I   \n",
            "4              2016           1000 t                7.0                I   \n",
            "\n",
            "  Flag Description_animal_2016  Note_animal_2016 Domain Code_vegetal_2016  \\\n",
            "0                Imputed value               NaN                      FBS   \n",
            "1                Imputed value               NaN                      FBS   \n",
            "2                Imputed value               NaN                      FBS   \n",
            "3                Imputed value               NaN                      FBS   \n",
            "4                Imputed value               NaN                      FBS   \n",
            "\n",
            "     Domain_vegetal_2016  Area Code (M49)_vegetal_2016 Area_vegetal_2016  \\\n",
            "0  Food Balances (2010-)                             4       Afghanistan   \n",
            "1  Food Balances (2010-)                             4       Afghanistan   \n",
            "2  Food Balances (2010-)                             4       Afghanistan   \n",
            "3  Food Balances (2010-)                             4       Afghanistan   \n",
            "4  Food Balances (2010-)                             4       Afghanistan   \n",
            "\n",
            "   Element Code_vegetal_2016 Element_vegetal_2016  \\\n",
            "0                       5611      Import quantity   \n",
            "1                       5611      Import quantity   \n",
            "2                       5611      Import quantity   \n",
            "3                       5611      Import quantity   \n",
            "4                       5611      Import quantity   \n",
            "\n",
            "  Item Code (FBS)_vegetal_2016   Item_vegetal_2016  Year Code_vegetal_2016  \\\n",
            "0                        S2511  Wheat and products                    2016   \n",
            "1                        S2511  Wheat and products                    2016   \n",
            "2                        S2511  Wheat and products                    2016   \n",
            "3                        S2511  Wheat and products                    2016   \n",
            "4                        S2511  Wheat and products                    2016   \n",
            "\n",
            "   Year_vegetal_2016 Unit_vegetal_2016  Value_vegetal_2016 Flag_vegetal_2016  \\\n",
            "0               2016            1000 t              2784.0                 I   \n",
            "1               2016            1000 t              2784.0                 I   \n",
            "2               2016            1000 t              2784.0                 I   \n",
            "3               2016            1000 t              2784.0                 I   \n",
            "4               2016            1000 t              2784.0                 I   \n",
            "\n",
            "  Flag Description_vegetal_2016  Note_vegetal_2016 Domain Code_animal_2022  \\\n",
            "0                 Imputed value                NaN                     FBS   \n",
            "1                 Imputed value                NaN                     FBS   \n",
            "2                 Imputed value                NaN                     FBS   \n",
            "3                 Imputed value                NaN                     FBS   \n",
            "4                 Imputed value                NaN                     FBS   \n",
            "\n",
            "      Domain_animal_2022  Area Code (M49)_animal_2022  \\\n",
            "0  Food Balances (2010-)                            4   \n",
            "1  Food Balances (2010-)                            4   \n",
            "2  Food Balances (2010-)                            4   \n",
            "3  Food Balances (2010-)                            4   \n",
            "4  Food Balances (2010-)                            4   \n",
            "\n",
            "   Element Code_animal_2022                     Element_animal_2022  \\\n",
            "0                      5611                         Import quantity   \n",
            "1                       645     Food supply quantity (kg/capita/yr)   \n",
            "2                       674  Protein supply quantity (g/capita/day)   \n",
            "3                      5611                         Import quantity   \n",
            "4                       645     Food supply quantity (kg/capita/yr)   \n",
            "\n",
            "  Item Code (FBS)_animal_2022    Item_animal_2022  Year Code_animal_2022  \\\n",
            "0                       S2731         Bovine Meat                   2022   \n",
            "1                       S2731         Bovine Meat                   2022   \n",
            "2                       S2731         Bovine Meat                   2022   \n",
            "3                       S2732  Mutton & Goat Meat                   2022   \n",
            "4                       S2732  Mutton & Goat Meat                   2022   \n",
            "\n",
            "   Year_animal_2022 Unit_animal_2022  Value_animal_2022 Flag_animal_2022  \\\n",
            "0              2022           1000 t               0.00                I   \n",
            "1              2022           kg/cap               1.99                E   \n",
            "2              2022          g/cap/d               0.83                E   \n",
            "3              2022           1000 t               0.00                I   \n",
            "4              2022           kg/cap               3.62                E   \n",
            "\n",
            "  Flag Description_animal_2022  Note_animal_2022 Domain Code_vegetal_2022  \\\n",
            "0                Imputed value               NaN                      FBS   \n",
            "1              Estimated value               NaN                      FBS   \n",
            "2              Estimated value               NaN                      FBS   \n",
            "3                Imputed value               NaN                      FBS   \n",
            "4              Estimated value               NaN                      FBS   \n",
            "\n",
            "     Domain_vegetal_2022  Area Code (M49)_vegetal_2022 Area_vegetal_2022  \\\n",
            "0  Food Balances (2010-)                             4       Afghanistan   \n",
            "1  Food Balances (2010-)                             4       Afghanistan   \n",
            "2  Food Balances (2010-)                             4       Afghanistan   \n",
            "3  Food Balances (2010-)                             4       Afghanistan   \n",
            "4  Food Balances (2010-)                             4       Afghanistan   \n",
            "\n",
            "   Element Code_vegetal_2022                    Element_vegetal_2022  \\\n",
            "0                       5611                         Import quantity   \n",
            "1                        645     Food supply quantity (kg/capita/yr)   \n",
            "2                        674  Protein supply quantity (g/capita/day)   \n",
            "3                       5611                         Import quantity   \n",
            "4                        645     Food supply quantity (kg/capita/yr)   \n",
            "\n",
            "  Item Code (FBS)_vegetal_2022   Item_vegetal_2022  Year Code_vegetal_2022  \\\n",
            "0                        S2511  Wheat and products                    2022   \n",
            "1                        S2511  Wheat and products                    2022   \n",
            "2                        S2511  Wheat and products                    2022   \n",
            "3                        S2807   Rice and products                    2022   \n",
            "4                        S2807   Rice and products                    2022   \n",
            "\n",
            "   Year_vegetal_2022 Unit_vegetal_2022  Value_vegetal_2022 Flag_vegetal_2022  \\\n",
            "0               2022            1000 t             3538.00                 I   \n",
            "1               2022            kg/cap              157.12                 E   \n",
            "2               2022           g/cap/d               39.75                 E   \n",
            "3               2022            1000 t              777.00                 I   \n",
            "4               2022            kg/cap               31.67                 E   \n",
            "\n",
            "  Flag Description_vegetal_2022  Note_vegetal_2022  Poultry_Imports_change  \\\n",
            "0                 Imputed value                NaN                   -7.00   \n",
            "1               Estimated value                NaN                   -5.01   \n",
            "2               Estimated value                NaN                   -6.17   \n",
            "3                 Imputed value                NaN                   -7.00   \n",
            "4               Estimated value                NaN                   -3.38   \n",
            "\n",
            "  Country Name Country Code      2022  \n",
            "0  Afghanistan          AFG  1.435704  \n",
            "1  Afghanistan          AFG  1.435704  \n",
            "2  Afghanistan          AFG  1.435704  \n",
            "3  Afghanistan          AFG  1.435704  \n",
            "4  Afghanistan          AFG  1.435704  \n"
          ]
        }
      ],
      "source": [
        "final_data = pd.merge(\n",
        "    final_merged,\n",
        "    pop_growth[['Country Name', 'Country Code', '2022']],\n",
        "    left_on='Area_animal',\n",
        "    right_on='Country Name'\n",
        ")\n",
        "\n",
        "print(final_data.head())"
      ]
    },
    {
      "cell_type": "markdown",
      "id": "746bf77f-68f5-4f1e-bfc8-42a4c78843de",
      "metadata": {
        "tags": [],
        "id": "746bf77f-68f5-4f1e-bfc8-42a4c78843de"
      },
      "source": [
        "## Hypothesis Testing\n",
        "\n",
        "Now you can start testing out some hypotheses about the data.  The main theme of the hypotheses is that there is some difference in the regional groups that can be exploited in order to identify candidate regions and ultimately the countries within those regions.  But you can explore other angles if you want.  Below are some suggested hypotheses.\n",
        "\n",
        "In each case, make a plot of the quantitative variable for the regional groups, in order to get a visual sense of how the regions split the data on that variable.  You can use  a KDE plot, box plot, swarm plot or something else.  Then carry out an ANOVA to obtain a p value.  Comment on what this analysis tells you in each case.\n",
        "\n",
        "These functions can help with plotting:\n",
        "\n",
        "- [seaborn.displot](https://seaborn.pydata.org/generated/seaborn.displot.html)\n",
        "- [seaborn.catplot](https://seaborn.pydata.org/generated/seaborn.catplot.html)\n",
        "\n",
        "You can use the following function to compute the ANOVA:\n",
        "\n",
        "- [scipy.stats.f_oneway](https://docs.scipy.org/doc/scipy/reference/generated/scipy.stats.f_oneway.html)\n",
        "\n"
      ]
    },
    {
      "cell_type": "markdown",
      "id": "da9a9ea0-9135-4c5c-bd55-4f91d94dcc40",
      "metadata": {
        "id": "da9a9ea0-9135-4c5c-bd55-4f91d94dcc40"
      },
      "source": [
        "<div style=\"background-color:lemonchiffon; border:1px solid; padding:5px; margin:5px; font-weight:bold\"><font color=\"crimson\">\n",
        "TODO: Carry out your hypothesis testing here and comment on the analysis.  Add additional hypothesis tests as you see fit.\n",
        "    </font></div>"
      ]
    },
    {
      "cell_type": "markdown",
      "id": "7f919ecb-2033-4149-b505-40660d171213",
      "metadata": {
        "id": "7f919ecb-2033-4149-b505-40660d171213"
      },
      "source": [
        "### Is there a statistical difference in animal protein consumption across the regions?"
      ]
    },
    {
      "cell_type": "code",
      "source": [
        "print(final_merged.columns)\n"
      ],
      "metadata": {
        "colab": {
          "base_uri": "https://localhost:8080/"
        },
        "id": "Mlb8gA_4XdJB",
        "outputId": "b7384d3e-d643-41de-8fe6-05c79ed4eb03"
      },
      "id": "Mlb8gA_4XdJB",
      "execution_count": null,
      "outputs": [
        {
          "output_type": "stream",
          "name": "stdout",
          "text": [
            "Index(['Domain Code_animal_2016', 'Domain_animal_2016',\n",
            "       'Area Code (M49)_animal_2016', 'Area_animal',\n",
            "       'Element Code_animal_2016', 'Element_animal_2016',\n",
            "       'Item Code (FBS)_animal_2016', 'Item_animal_2016',\n",
            "       'Year Code_animal_2016', 'Year_animal_2016', 'Unit_animal_2016',\n",
            "       'Value_animal_2016', 'Flag_animal_2016', 'Flag Description_animal_2016',\n",
            "       'Note_animal_2016', 'Domain Code_vegetal_2016', 'Domain_vegetal_2016',\n",
            "       'Area Code (M49)_vegetal_2016', 'Area_vegetal_2016',\n",
            "       'Element Code_vegetal_2016', 'Element_vegetal_2016',\n",
            "       'Item Code (FBS)_vegetal_2016', 'Item_vegetal_2016',\n",
            "       'Year Code_vegetal_2016', 'Year_vegetal_2016', 'Unit_vegetal_2016',\n",
            "       'Value_vegetal_2016', 'Flag_vegetal_2016',\n",
            "       'Flag Description_vegetal_2016', 'Note_vegetal_2016',\n",
            "       'Domain Code_animal_2022', 'Domain_animal_2022',\n",
            "       'Area Code (M49)_animal_2022', 'Element Code_animal_2022',\n",
            "       'Element_animal_2022', 'Item Code (FBS)_animal_2022',\n",
            "       'Item_animal_2022', 'Year Code_animal_2022', 'Year_animal_2022',\n",
            "       'Unit_animal_2022', 'Value_animal_2022', 'Flag_animal_2022',\n",
            "       'Flag Description_animal_2022', 'Note_animal_2022',\n",
            "       'Domain Code_vegetal_2022', 'Domain_vegetal_2022',\n",
            "       'Area Code (M49)_vegetal_2022', 'Area_vegetal_2022',\n",
            "       'Element Code_vegetal_2022', 'Element_vegetal_2022',\n",
            "       'Item Code (FBS)_vegetal_2022', 'Item_vegetal_2022',\n",
            "       'Year Code_vegetal_2022', 'Year_vegetal_2022', 'Unit_vegetal_2022',\n",
            "       'Value_vegetal_2022', 'Flag_vegetal_2022',\n",
            "       'Flag Description_vegetal_2022', 'Note_vegetal_2022',\n",
            "       'Poultry_Imports_change'],\n",
            "      dtype='object')\n"
          ]
        }
      ]
    },
    {
      "cell_type": "code",
      "source": [
        "mapping = pd.merge(\n",
        "    fao_country_mapping,\n",
        "    country_region,\n",
        "    left_on='ISO3',\n",
        "    right_on='alpha-3'\n",
        ")\n",
        "\n",
        "mapping = mapping[['LIST NAME', 'ISO3', 'region', 'FAOSTAT']]\n",
        "mapping.columns = ['COUNTRY NAME', 'ISO3', 'Region', 'FAOSTAT']\n"
      ],
      "metadata": {
        "id": "ov69rTrUXoW6"
      },
      "id": "ov69rTrUXoW6",
      "execution_count": null,
      "outputs": []
    },
    {
      "cell_type": "code",
      "source": [
        "final_data = pd.merge(\n",
        "    final_data,\n",
        "    mapping[['COUNTRY NAME', 'Region']],\n",
        "    left_on='Area_animal',\n",
        "    right_on='COUNTRY NAME',\n",
        "    how='left'\n",
        ")\n"
      ],
      "metadata": {
        "id": "J6eCIm4ZYNfK"
      },
      "id": "J6eCIm4ZYNfK",
      "execution_count": null,
      "outputs": []
    },
    {
      "cell_type": "code",
      "source": [
        "plot_data = final_data[['Region', 'Poultry_Imports_change']].dropna()\n",
        "\n",
        "sns.displot(\n",
        "    data=plot_data,\n",
        "    x='Poultry_Imports_change',\n",
        "    hue='Region',\n",
        "    kind='kde',\n",
        "    fill=True,\n",
        "    common_norm=False,\n",
        "    height=6,\n",
        "    aspect=1.5\n",
        ")\n",
        "\n",
        "plt.title(\"Distribution of Poultry Import Changes (2016–2022) by Region\")\n",
        "plt.xlabel(\"Change in Poultry Imports\")\n",
        "plt.ylabel(\"Density\")\n",
        "plt.show()\n"
      ],
      "metadata": {
        "colab": {
          "base_uri": "https://localhost:8080/",
          "height": 629
        },
        "id": "3eWOEra7YSIq",
        "outputId": "048b55c1-fc26-4ba8-e568-f59a22b0bbcf"
      },
      "id": "3eWOEra7YSIq",
      "execution_count": null,
      "outputs": [
        {
          "output_type": "display_data",
          "data": {
            "text/plain": [
              "<Figure size 1014.5x600 with 1 Axes>"
            ],
            "image/png": "[encoded data removed]"
          },
          "metadata": {}
        }
      ]
    },
    {
      "cell_type": "code",
      "source": [
        "plot_data_clipped = plot_data[plot_data['Poultry_Imports_change'].between(-1000, 1000)]\n"
      ],
      "metadata": {
        "id": "Wlzo8lsKY5n5"
      },
      "id": "Wlzo8lsKY5n5",
      "execution_count": null,
      "outputs": []
    },
    {
      "cell_type": "code",
      "source": [
        "sns.displot(\n",
        "    data=plot_data_clipped,\n",
        "    x='Poultry_Imports_change',\n",
        "    hue='Region',\n",
        "    kind='kde',\n",
        "    fill=True,\n",
        "    common_norm=False,\n",
        "    height=6,\n",
        "    aspect=1.5\n",
        ")\n",
        "plt.title(\"Poultry Import Changes (2016–2022) by Region (Zoomed)\")\n",
        "plt.xlabel(\"Change in Poultry Imports\")\n",
        "plt.ylabel(\"Density\")\n",
        "plt.show()\n"
      ],
      "metadata": {
        "colab": {
          "base_uri": "https://localhost:8080/",
          "height": 629
        },
        "id": "dD5gJ-leY-mS",
        "outputId": "88d996fe-5fd8-4206-a095-1e717c7320bc"
      },
      "id": "dD5gJ-leY-mS",
      "execution_count": null,
      "outputs": [
        {
          "output_type": "display_data",
          "data": {
            "text/plain": [
              "<Figure size 1014.5x600 with 1 Axes>"
            ],
            "image/png": "[encoded data removed]"
          },
          "metadata": {}
        }
      ]
    },
    {
      "cell_type": "code",
      "source": [
        "from scipy.stats import f_oneway\n",
        "\n",
        "groups = [g['Poultry_Imports_change'].values for _, g in plot_data.groupby('Region')]\n",
        "anova_result = f_oneway(*groups)\n",
        "print(f\"ANOVA p-value: {anova_result.pvalue:.4f}\")\n"
      ],
      "metadata": {
        "colab": {
          "base_uri": "https://localhost:8080/"
        },
        "id": "qeUM6xmCZCLA",
        "outputId": "fd81a866-381a-42af-c349-5cb0bc6c79c2"
      },
      "id": "qeUM6xmCZCLA",
      "execution_count": null,
      "outputs": [
        {
          "output_type": "stream",
          "name": "stdout",
          "text": [
            "ANOVA p-value: 0.0023\n"
          ]
        }
      ]
    },
    {
      "cell_type": "code",
      "source": [
        "sns.boxplot(data=plot_data, x='Region', y='Poultry_Imports_change')\n",
        "plt.title(\"Poultry Import Change (2016–2022) by Region\")\n",
        "plt.ylabel(\"Change in Imports\")\n",
        "plt.xticks(rotation=45)\n",
        "plt.show()\n"
      ],
      "metadata": {
        "colab": {
          "base_uri": "https://localhost:8080/",
          "height": 513
        },
        "id": "883xJfe4bDyF",
        "outputId": "651d9b90-f11f-4cfc-822c-6c7d88affb9e"
      },
      "id": "883xJfe4bDyF",
      "execution_count": null,
      "outputs": [
        {
          "output_type": "display_data",
          "data": {
            "text/plain": [
              "<Figure size 640x480 with 1 Axes>"
            ],
            "image/png": "[encoded data removed]"
          },
          "metadata": {}
        }
      ]
    },
    {
      "cell_type": "markdown",
      "source": [
        "Regions like Asia and Europe have greater diversity in import changes.\n",
        "\n",
        "Africa, the Americas, and Oceania show more stable or consistent patterns.\n",
        "\n",
        "The ANOVA p-value of 0.0023 supports that regional differences are statistically significant."
      ],
      "metadata": {
        "id": "NJ2QoG1-b5T1"
      },
      "id": "NJ2QoG1-b5T1"
    },
    {
      "cell_type": "markdown",
      "id": "af5ea874-6d8b-4765-bebd-15d3e53258bd",
      "metadata": {
        "id": "af5ea874-6d8b-4765-bebd-15d3e53258bd"
      },
      "source": [
        "**ENTER CONCLUSION HERE**"
      ]
    },
    {
      "cell_type": "markdown",
      "id": "f9969fc7-e4ff-42c8-9f69-b377bc57061f",
      "metadata": {
        "id": "f9969fc7-e4ff-42c8-9f69-b377bc57061f"
      },
      "source": [
        "### Is there a statistical difference in the change in poultry imports across the regions?"
      ]
    },
    {
      "cell_type": "code",
      "execution_count": null,
      "id": "0c195ce3-d6d2-49a7-a36e-edef1e605ca5",
      "metadata": {
        "id": "0c195ce3-d6d2-49a7-a36e-edef1e605ca5",
        "colab": {
          "base_uri": "https://localhost:8080/"
        },
        "outputId": "ec21f342-6cc8-4814-b6ca-c3f29ba36d09"
      },
      "outputs": [
        {
          "output_type": "stream",
          "name": "stdout",
          "text": [
            "ANOVA p-value: 0.0023\n"
          ]
        }
      ],
      "source": [
        "# Ensure no missing values\n",
        "plot_data = final_data[['Region', 'Poultry_Imports_change']].dropna()\n",
        "\n",
        "# Group values by Region\n",
        "groups = [group['Poultry_Imports_change'].values for _, group in plot_data.groupby('Region')]\n",
        "\n",
        "# Run one-way ANOVA\n",
        "anova_result = f_oneway(*groups)\n",
        "\n",
        "# Print result\n",
        "print(f\"ANOVA p-value: {anova_result.pvalue:.4f}\")\n"
      ]
    },
    {
      "cell_type": "markdown",
      "id": "73f45d49-7e3c-471e-ae4d-64716ccfd46d",
      "metadata": {
        "id": "73f45d49-7e3c-471e-ae4d-64716ccfd46d"
      },
      "source": [
        "**ENTER CONCLUSION HERE**"
      ]
    },
    {
      "cell_type": "markdown",
      "id": "53bd4005-e487-44b2-9715-5b809f0f8d7d",
      "metadata": {
        "id": "53bd4005-e487-44b2-9715-5b809f0f8d7d"
      },
      "source": [
        "### Is there a statistical difference in the population growth across the regions?"
      ]
    },
    {
      "cell_type": "code",
      "execution_count": null,
      "id": "8b22d2f8-e727-450a-ab5a-ac298f38458d",
      "metadata": {
        "id": "8b22d2f8-e727-450a-ab5a-ac298f38458d",
        "colab": {
          "base_uri": "https://localhost:8080/"
        },
        "outputId": "bd189660-37d1-44da-b289-f767454adbe5"
      },
      "outputs": [
        {
          "output_type": "stream",
          "name": "stdout",
          "text": [
            "ANOVA p-value for population growth across regions: 0.0000\n"
          ]
        }
      ],
      "source": [
        "# Ensure 'Region' and '2022' columns are present and no missing values\n",
        "pop_anova_data = final_data[['Region', '2022']].dropna()\n",
        "\n",
        "# Rename for clarity (optional)\n",
        "pop_anova_data = pop_anova_data.rename(columns={'2022': 'Pop_Growth_2022'})\n",
        "\n",
        "# Group population growth by region\n",
        "pop_groups = [group['Pop_Growth_2022'].values for _, group in pop_anova_data.groupby('Region')]\n",
        "\n",
        "# Run ANOVA\n",
        "pop_anova_result = f_oneway(*pop_groups)\n",
        "\n",
        "# Print result\n",
        "print(f\"ANOVA p-value for population growth across regions: {pop_anova_result.pvalue:.4f}\")\n"
      ]
    },
    {
      "cell_type": "code",
      "source": [
        "sns.boxplot(data=pop_anova_data, x='Region', y='Pop_Growth_2022')\n",
        "plt.title(\"Population Growth (2022) by Region\")\n",
        "plt.ylabel(\"Population Growth (%)\")\n",
        "plt.xticks(rotation=45)\n",
        "plt.show()\n"
      ],
      "metadata": {
        "colab": {
          "base_uri": "https://localhost:8080/",
          "height": 513
        },
        "id": "sveRK0gEc2Wu",
        "outputId": "3e9ca207-8ce4-41cf-9004-07cade6eb036"
      },
      "id": "sveRK0gEc2Wu",
      "execution_count": null,
      "outputs": [
        {
          "output_type": "display_data",
          "data": {
            "text/plain": [
              "<Figure size 640x480 with 1 Axes>"
            ],
            "image/png": "[encoded data removed]"
          },
          "metadata": {}
        }
      ]
    },
    {
      "cell_type": "markdown",
      "source": [
        "The ANOVA result (p = 0.0000) is supported by this visual.\n",
        "\n",
        "Africa is clearly distinct in its consistently high growth.\n",
        "\n",
        "Europe is the only region with frequent negative or stagnant growth."
      ],
      "metadata": {
        "id": "RjVzLSZ0dCl1"
      },
      "id": "RjVzLSZ0dCl1"
    },
    {
      "cell_type": "markdown",
      "id": "0c944409-09b2-40de-aa78-4454997662df",
      "metadata": {
        "id": "0c944409-09b2-40de-aa78-4454997662df"
      },
      "source": [
        "**ENTER CONCLUSION HERE**"
      ]
    },
    {
      "cell_type": "markdown",
      "id": "bcbe29bd-57e2-481c-ae98-081efc9499e5",
      "metadata": {
        "id": "bcbe29bd-57e2-481c-ae98-081efc9499e5"
      },
      "source": [
        "### Is there a statistical difference in the gdp per capita growth across the regions?"
      ]
    },
    {
      "cell_type": "code",
      "execution_count": null,
      "id": "c9440fb4-c75e-40e8-ab99-1c448465baec",
      "metadata": {
        "id": "c9440fb4-c75e-40e8-ab99-1c448465baec",
        "colab": {
          "base_uri": "https://localhost:8080/"
        },
        "outputId": "8e272384-ce32-46e0-84e1-e4b153da0cd4"
      },
      "outputs": [
        {
          "output_type": "stream",
          "name": "stdout",
          "text": [
            "ANOVA p-value for GDP per capita growth across regions: 0.0000\n"
          ]
        }
      ],
      "source": [
        "gdp_data = final_data[['Region', '2022']].dropna()\n",
        "gdp_data = gdp_data.rename(columns={'2022': 'GDP_Growth_2022'})\n",
        "\n",
        "# Step 2: Group by Region\n",
        "gdp_groups = [group['GDP_Growth_2022'].values for _, group in gdp_data.groupby('Region')]\n",
        "\n",
        "# Step 3: Run ANOVA\n",
        "gdp_anova = f_oneway(*gdp_groups)\n",
        "\n",
        "# Step 4: Display result\n",
        "print(f\"ANOVA p-value for GDP per capita growth across regions: {gdp_anova.pvalue:.4f}\")\n"
      ]
    },
    {
      "cell_type": "code",
      "source": [
        "sns.boxplot(data=gdp_data, x='Region', y='GDP_Growth_2022')\n",
        "plt.title(\"GDP per Capita Growth (2022) by Region\")\n",
        "plt.xticks(rotation=45)\n",
        "plt.ylabel(\"GDP Growth (%)\")\n",
        "plt.show()\n"
      ],
      "metadata": {
        "colab": {
          "base_uri": "https://localhost:8080/",
          "height": 513
        },
        "id": "KwLaRnayeSRJ",
        "outputId": "41ec70c6-2796-4243-f15b-ab86f494482a"
      },
      "id": "KwLaRnayeSRJ",
      "execution_count": null,
      "outputs": [
        {
          "output_type": "display_data",
          "data": {
            "text/plain": [
              "<Figure size 640x480 with 1 Axes>"
            ],
            "image/png": "[encoded data removed]"
          },
          "metadata": {}
        }
      ]
    },
    {
      "cell_type": "markdown",
      "id": "61ef732a-a6c7-4837-97cf-d2cef8bf1d52",
      "metadata": {
        "id": "61ef732a-a6c7-4837-97cf-d2cef8bf1d52"
      },
      "source": [
        "**ENTER CONCLUSION HERE**"
      ]
    },
    {
      "cell_type": "markdown",
      "id": "3c60e46a-ecfa-4464-a566-f4ea84ac6e87",
      "metadata": {
        "id": "3c60e46a-ecfa-4464-a566-f4ea84ac6e87"
      },
      "source": [
        "## Summary"
      ]
    },
    {
      "cell_type": "markdown",
      "id": "631f2b87-9660-46b0-9aab-1487b0f35711",
      "metadata": {
        "id": "631f2b87-9660-46b0-9aab-1487b0f35711"
      },
      "source": [
        "<div style=\"background-color:lemonchiffon; border:1px solid; padding:5px; margin:5px; font-weight:bold\"><font color=\"crimson\">\n",
        "TODO: Summarise your findings here.  To what extend does the data support the marketing team's intended analysis?\n",
        "    </font></div>"
      ]
    },
    {
      "cell_type": "markdown",
      "id": "06c8afe3-facb-4d40-aa48-6f274d5ac47b",
      "metadata": {
        "id": "06c8afe3-facb-4d40-aa48-6f274d5ac47b"
      },
      "source": [
        "**ENTER CONCLUSION HERE**"
      ]
    },
    {
      "cell_type": "markdown",
      "source": [
        "Africa stands out for its high population growth and increasing poultry imports, making it a strategic priority.\n",
        "\n",
        "Asia shows economic growth and market diversity, offering opportunities in specific countries.\n",
        "\n",
        "Regions like Europe may require less focus due to stagnant or declining imports and population."
      ],
      "metadata": {
        "id": "ttJvEw3ShD4g"
      },
      "id": "ttJvEw3ShD4g"
    },
    {
      "cell_type": "markdown",
      "id": "5e919f9b-aa61-48f5-bf29-d7da3f518ea8",
      "metadata": {
        "id": "5e919f9b-aa61-48f5-bf29-d7da3f518ea8"
      },
      "source": [
        "## Sampling\n",
        "\n",
        "In order to illustrate to the marketing team some of the characteristics of the countries, you should extract a sample of countries.  \n",
        "\n",
        "Note that the purpose of this sample is to illustrate, not to do further analysis.  So don’t worry about using a small sample size on this case!\n",
        "\n",
        "These functions can help you:\n",
        "\n",
        "\n",
        "- [pandas.DataFrame.groupby](https://pandas.pydata.org/docs/reference/api/pandas.DataFrame.groupby.html)\n",
        "\n",
        "- [pandas.DataFrame.sample](https://pandas.pydata.org/docs/reference/api/pandas.DataFrame.sample.html)\n",
        "\n"
      ]
    },
    {
      "cell_type": "markdown",
      "id": "20223b1c-eb31-41cb-9f97-af13e5aaef17",
      "metadata": {
        "id": "20223b1c-eb31-41cb-9f97-af13e5aaef17"
      },
      "source": [
        "<div style=\"background-color:lemonchiffon; border:1px solid; padding:5px; margin:5px; font-weight:bold\"><font color=\"crimson\">\n",
        "TODO: Describe the sampling approach used here and explain why you used this approach.\n",
        "    </font></div>"
      ]
    },
    {
      "cell_type": "markdown",
      "id": "25d38702-5e4f-42df-a621-b3abb79c1cf4",
      "metadata": {
        "id": "25d38702-5e4f-42df-a621-b3abb79c1cf4"
      },
      "source": [
        "**ENTER APPROACH HERE**"
      ]
    },
    {
      "cell_type": "markdown",
      "id": "e432e410-4ebb-45f6-9588-aaf063451010",
      "metadata": {
        "id": "e432e410-4ebb-45f6-9588-aaf063451010"
      },
      "source": [
        "<div style=\"background-color:lemonchiffon; border:1px solid; padding:5px; margin:5px; font-weight:bold\"><font color=\"crimson\">\n",
        "TODO: Produce your sample here.\n",
        "    </font></div>"
      ]
    },
    {
      "cell_type": "code",
      "execution_count": null,
      "id": "2c228d49-41d4-4640-bf4c-36aa501f9a4f",
      "metadata": {
        "id": "2c228d49-41d4-4640-bf4c-36aa501f9a4f"
      },
      "outputs": [],
      "source": [
        "# Step 1: Merge Region info\n",
        "final_data = pd.merge(\n",
        "    final_merged,\n",
        "    mapping[['COUNTRY NAME', 'Region']],\n",
        "    left_on='Area_animal',\n",
        "    right_on='COUNTRY NAME',\n",
        "    how='left'\n",
        ")\n",
        "\n",
        "# Step 2: Merge GDP growth (2022)\n",
        "final_data = pd.merge(\n",
        "    final_data,\n",
        "    gdp_growth[['Country Name', '2022']],\n",
        "    left_on='Area_animal',\n",
        "    right_on='Country Name',\n",
        "    how='left'\n",
        ")\n",
        "\n",
        "# Step 3: Merge population growth (2022)\n",
        "final_data = pd.merge(\n",
        "    final_data,\n",
        "    pop_growth[['Country Name', '2022']],\n",
        "    left_on='Area_animal',\n",
        "    right_on='Country Name',\n",
        "    how='left'\n",
        ")\n",
        "\n",
        "# Step 4: Rename GDP and Population columns for clarity\n",
        "final_data = final_data.rename(columns={\n",
        "    '2022_x': 'GDP_Growth_2022',\n",
        "    '2022_y': 'Pop_Growth_2022'\n",
        "})\n"
      ]
    },
    {
      "cell_type": "code",
      "source": [
        "# Get 2 samples per region without triggering the warning\n",
        "sample_summary = (\n",
        "    final_data.groupby('Region')\n",
        "    .apply(lambda group: group.sample(n=2, random_state=42)[[\n",
        "        'Area_animal',\n",
        "        'Region',\n",
        "        'Poultry_Imports_change',\n",
        "        'GDP_Growth_2022',\n",
        "        'Pop_Growth_2022'\n",
        "    ]])\n",
        "    .reset_index(drop=True)\n",
        ")\n",
        "\n",
        "# Rename columns\n",
        "sample_summary.columns = [\n",
        "    'Country',\n",
        "    'Region',\n",
        "    'Poultry_Imports_Change',\n",
        "    'GDP_Growth_2022',\n",
        "    'Pop_Growth_2022'\n",
        "]\n",
        "\n",
        "print(sample_summary)\n"
      ],
      "metadata": {
        "colab": {
          "base_uri": "https://localhost:8080/"
        },
        "id": "PdZc7mc-jD_n",
        "outputId": "8615f23d-4cdd-4a8f-9828-cc4b85e75c25"
      },
      "id": "PdZc7mc-jD_n",
      "execution_count": null,
      "outputs": [
        {
          "output_type": "stream",
          "name": "stdout",
          "text": [
            "                Country    Region  Poultry_Imports_Change  GDP_Growth_2022  \\\n",
            "0              Zimbabwe    Africa                    0.63         4.343667   \n",
            "1               Tunisia    Africa                   -5.22         2.074256   \n",
            "2                Guyana  Americas                    0.00        62.111024   \n",
            "3    Dominican Republic  Americas                   -4.22         3.856885   \n",
            "4                 China      Asia                 -362.00         2.964157   \n",
            "5  China, Hong Kong SAR      Asia                  -11.65              NaN   \n",
            "6                Norway    Europe                  214.25         2.084382   \n",
            "7            Luxembourg    Europe                    2.81        -0.643838   \n",
            "8             Australia   Oceania                 -195.20         2.924101   \n",
            "9              Kiribati   Oceania                   -4.15         2.239287   \n",
            "\n",
            "   Pop_Growth_2022  \n",
            "0         1.706209  \n",
            "1         0.585173  \n",
            "2         0.751934  \n",
            "3         0.959630  \n",
            "4        -0.013100  \n",
            "5              NaN  \n",
            "6         0.898395  \n",
            "7         2.016668  \n",
            "8         1.272699  \n",
            "9         1.616440  \n"
          ]
        },
        {
          "output_type": "stream",
          "name": "stderr",
          "text": [
            "<ipython-input-95-764392230b93>:4: DeprecationWarning: DataFrameGroupBy.apply operated on the grouping columns. This behavior is deprecated, and in a future version of pandas the grouping columns will be excluded from the operation. Either pass `include_groups=False` to exclude the groupings or explicitly select the grouping columns after groupby to silence this warning.\n",
            "  .apply(lambda group: group.sample(n=2, random_state=42)[[\n"
          ]
        }
      ]
    },
    {
      "cell_type": "markdown",
      "source": [
        "\n",
        "* **Zimbabwe**: Slight increase in poultry imports (+0.63), strong GDP growth (4.34%), and solid population growth (1.71%)\n",
        "* **Tunisia**: Decline in poultry imports (–5.22), moderate GDP growth (2.07%), slower population growth (0.59%)\n",
        "\n",
        "Both countries show population growth; Zimbabwe may be a stronger marketing candidate due to higher economic growth and stable demand.\n",
        "\n",
        "\n"
      ],
      "metadata": {
        "id": "lVCvVkcYj-1v"
      },
      "id": "lVCvVkcYj-1v"
    }
  ],
  "metadata": {
    "kernelspec": {
      "display_name": "Python 3 (ipykernel)",
      "language": "python",
      "name": "python3"
    },
    "language_info": {
      "codemirror_mode": {
        "name": "ipython",
        "version": 3
      },
      "file_extension": ".py",
      "mimetype": "text/x-python",
      "name": "python",
      "nbconvert_exporter": "python",
      "pygments_lexer": "ipython3",
      "version": "3.9.12"
    },
    "colab": {
      "provenance": [],
      "toc_visible": true,
      "include_colab_link": true
    }
  },
  "nbformat": 4,
  "nbformat_minor": 5
}